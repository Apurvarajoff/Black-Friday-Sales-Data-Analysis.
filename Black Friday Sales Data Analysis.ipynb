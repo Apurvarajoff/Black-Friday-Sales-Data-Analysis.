{
 "cells": [
  {
   "cell_type": "code",
   "execution_count": 1,
   "id": "141774c3",
   "metadata": {},
   "outputs": [],
   "source": [
    "import pandas as pd\n",
    "import seaborn as sns"
   ]
  },
  {
   "cell_type": "code",
   "execution_count": 2,
   "id": "d028ae35",
   "metadata": {},
   "outputs": [],
   "source": [
    "df= pd.read_csv('BlackFriday.csv')"
   ]
  },
  {
   "cell_type": "code",
   "execution_count": 3,
   "id": "62ab300a",
   "metadata": {},
   "outputs": [
    {
     "data": {
      "text/html": [
       "<div>\n",
       "<style scoped>\n",
       "    .dataframe tbody tr th:only-of-type {\n",
       "        vertical-align: middle;\n",
       "    }\n",
       "\n",
       "    .dataframe tbody tr th {\n",
       "        vertical-align: top;\n",
       "    }\n",
       "\n",
       "    .dataframe thead th {\n",
       "        text-align: right;\n",
       "    }\n",
       "</style>\n",
       "<table border=\"1\" class=\"dataframe\">\n",
       "  <thead>\n",
       "    <tr style=\"text-align: right;\">\n",
       "      <th></th>\n",
       "      <th>User_ID</th>\n",
       "      <th>Product_ID</th>\n",
       "      <th>Gender</th>\n",
       "      <th>Age</th>\n",
       "      <th>Occupation</th>\n",
       "      <th>City_Category</th>\n",
       "      <th>Stay_In_Current_City_Years</th>\n",
       "      <th>Marital_Status</th>\n",
       "      <th>Product_Category_1</th>\n",
       "      <th>Product_Category_2</th>\n",
       "      <th>Product_Category_3</th>\n",
       "    </tr>\n",
       "  </thead>\n",
       "  <tbody>\n",
       "    <tr>\n",
       "      <th>0</th>\n",
       "      <td>1000004</td>\n",
       "      <td>P00128942</td>\n",
       "      <td>M</td>\n",
       "      <td>46-50</td>\n",
       "      <td>7</td>\n",
       "      <td>B</td>\n",
       "      <td>2</td>\n",
       "      <td>1</td>\n",
       "      <td>1</td>\n",
       "      <td>11.0</td>\n",
       "      <td>NaN</td>\n",
       "    </tr>\n",
       "    <tr>\n",
       "      <th>1</th>\n",
       "      <td>1000009</td>\n",
       "      <td>P00113442</td>\n",
       "      <td>M</td>\n",
       "      <td>26-35</td>\n",
       "      <td>17</td>\n",
       "      <td>C</td>\n",
       "      <td>0</td>\n",
       "      <td>0</td>\n",
       "      <td>3</td>\n",
       "      <td>5.0</td>\n",
       "      <td>NaN</td>\n",
       "    </tr>\n",
       "    <tr>\n",
       "      <th>2</th>\n",
       "      <td>1000010</td>\n",
       "      <td>P00288442</td>\n",
       "      <td>F</td>\n",
       "      <td>36-45</td>\n",
       "      <td>1</td>\n",
       "      <td>B</td>\n",
       "      <td>4+</td>\n",
       "      <td>1</td>\n",
       "      <td>5</td>\n",
       "      <td>14.0</td>\n",
       "      <td>NaN</td>\n",
       "    </tr>\n",
       "    <tr>\n",
       "      <th>3</th>\n",
       "      <td>1000010</td>\n",
       "      <td>P00145342</td>\n",
       "      <td>F</td>\n",
       "      <td>36-45</td>\n",
       "      <td>1</td>\n",
       "      <td>B</td>\n",
       "      <td>4+</td>\n",
       "      <td>1</td>\n",
       "      <td>4</td>\n",
       "      <td>9.0</td>\n",
       "      <td>NaN</td>\n",
       "    </tr>\n",
       "    <tr>\n",
       "      <th>4</th>\n",
       "      <td>1000011</td>\n",
       "      <td>P00053842</td>\n",
       "      <td>F</td>\n",
       "      <td>26-35</td>\n",
       "      <td>1</td>\n",
       "      <td>C</td>\n",
       "      <td>1</td>\n",
       "      <td>0</td>\n",
       "      <td>4</td>\n",
       "      <td>5.0</td>\n",
       "      <td>12.0</td>\n",
       "    </tr>\n",
       "    <tr>\n",
       "      <th>...</th>\n",
       "      <td>...</td>\n",
       "      <td>...</td>\n",
       "      <td>...</td>\n",
       "      <td>...</td>\n",
       "      <td>...</td>\n",
       "      <td>...</td>\n",
       "      <td>...</td>\n",
       "      <td>...</td>\n",
       "      <td>...</td>\n",
       "      <td>...</td>\n",
       "      <td>...</td>\n",
       "    </tr>\n",
       "    <tr>\n",
       "      <th>233594</th>\n",
       "      <td>1006036</td>\n",
       "      <td>P00118942</td>\n",
       "      <td>F</td>\n",
       "      <td>26-35</td>\n",
       "      <td>15</td>\n",
       "      <td>B</td>\n",
       "      <td>4+</td>\n",
       "      <td>1</td>\n",
       "      <td>8</td>\n",
       "      <td>NaN</td>\n",
       "      <td>NaN</td>\n",
       "    </tr>\n",
       "    <tr>\n",
       "      <th>233595</th>\n",
       "      <td>1006036</td>\n",
       "      <td>P00254642</td>\n",
       "      <td>F</td>\n",
       "      <td>26-35</td>\n",
       "      <td>15</td>\n",
       "      <td>B</td>\n",
       "      <td>4+</td>\n",
       "      <td>1</td>\n",
       "      <td>5</td>\n",
       "      <td>8.0</td>\n",
       "      <td>NaN</td>\n",
       "    </tr>\n",
       "    <tr>\n",
       "      <th>233596</th>\n",
       "      <td>1006036</td>\n",
       "      <td>P00031842</td>\n",
       "      <td>F</td>\n",
       "      <td>26-35</td>\n",
       "      <td>15</td>\n",
       "      <td>B</td>\n",
       "      <td>4+</td>\n",
       "      <td>1</td>\n",
       "      <td>1</td>\n",
       "      <td>5.0</td>\n",
       "      <td>12.0</td>\n",
       "    </tr>\n",
       "    <tr>\n",
       "      <th>233597</th>\n",
       "      <td>1006037</td>\n",
       "      <td>P00124742</td>\n",
       "      <td>F</td>\n",
       "      <td>46-50</td>\n",
       "      <td>1</td>\n",
       "      <td>C</td>\n",
       "      <td>4+</td>\n",
       "      <td>0</td>\n",
       "      <td>10</td>\n",
       "      <td>16.0</td>\n",
       "      <td>NaN</td>\n",
       "    </tr>\n",
       "    <tr>\n",
       "      <th>233598</th>\n",
       "      <td>1006039</td>\n",
       "      <td>P00316642</td>\n",
       "      <td>F</td>\n",
       "      <td>46-50</td>\n",
       "      <td>0</td>\n",
       "      <td>B</td>\n",
       "      <td>4+</td>\n",
       "      <td>1</td>\n",
       "      <td>4</td>\n",
       "      <td>5.0</td>\n",
       "      <td>NaN</td>\n",
       "    </tr>\n",
       "  </tbody>\n",
       "</table>\n",
       "<p>233599 rows × 11 columns</p>\n",
       "</div>"
      ],
      "text/plain": [
       "        User_ID Product_ID Gender    Age  Occupation City_Category  \\\n",
       "0       1000004  P00128942      M  46-50           7             B   \n",
       "1       1000009  P00113442      M  26-35          17             C   \n",
       "2       1000010  P00288442      F  36-45           1             B   \n",
       "3       1000010  P00145342      F  36-45           1             B   \n",
       "4       1000011  P00053842      F  26-35           1             C   \n",
       "...         ...        ...    ...    ...         ...           ...   \n",
       "233594  1006036  P00118942      F  26-35          15             B   \n",
       "233595  1006036  P00254642      F  26-35          15             B   \n",
       "233596  1006036  P00031842      F  26-35          15             B   \n",
       "233597  1006037  P00124742      F  46-50           1             C   \n",
       "233598  1006039  P00316642      F  46-50           0             B   \n",
       "\n",
       "       Stay_In_Current_City_Years  Marital_Status  Product_Category_1  \\\n",
       "0                               2               1                   1   \n",
       "1                               0               0                   3   \n",
       "2                              4+               1                   5   \n",
       "3                              4+               1                   4   \n",
       "4                               1               0                   4   \n",
       "...                           ...             ...                 ...   \n",
       "233594                         4+               1                   8   \n",
       "233595                         4+               1                   5   \n",
       "233596                         4+               1                   1   \n",
       "233597                         4+               0                  10   \n",
       "233598                         4+               1                   4   \n",
       "\n",
       "        Product_Category_2  Product_Category_3  \n",
       "0                     11.0                 NaN  \n",
       "1                      5.0                 NaN  \n",
       "2                     14.0                 NaN  \n",
       "3                      9.0                 NaN  \n",
       "4                      5.0                12.0  \n",
       "...                    ...                 ...  \n",
       "233594                 NaN                 NaN  \n",
       "233595                 8.0                 NaN  \n",
       "233596                 5.0                12.0  \n",
       "233597                16.0                 NaN  \n",
       "233598                 5.0                 NaN  \n",
       "\n",
       "[233599 rows x 11 columns]"
      ]
     },
     "execution_count": 3,
     "metadata": {},
     "output_type": "execute_result"
    }
   ],
   "source": [
    "df"
   ]
  },
  {
   "cell_type": "code",
   "execution_count": 4,
   "id": "3e3d34b5",
   "metadata": {},
   "outputs": [
    {
     "data": {
      "text/html": [
       "<div>\n",
       "<style scoped>\n",
       "    .dataframe tbody tr th:only-of-type {\n",
       "        vertical-align: middle;\n",
       "    }\n",
       "\n",
       "    .dataframe tbody tr th {\n",
       "        vertical-align: top;\n",
       "    }\n",
       "\n",
       "    .dataframe thead th {\n",
       "        text-align: right;\n",
       "    }\n",
       "</style>\n",
       "<table border=\"1\" class=\"dataframe\">\n",
       "  <thead>\n",
       "    <tr style=\"text-align: right;\">\n",
       "      <th></th>\n",
       "      <th>User_ID</th>\n",
       "      <th>Product_ID</th>\n",
       "      <th>Gender</th>\n",
       "      <th>Age</th>\n",
       "      <th>Occupation</th>\n",
       "      <th>City_Category</th>\n",
       "      <th>Stay_In_Current_City_Years</th>\n",
       "      <th>Marital_Status</th>\n",
       "      <th>Product_Category_1</th>\n",
       "      <th>Product_Category_2</th>\n",
       "      <th>Product_Category_3</th>\n",
       "    </tr>\n",
       "  </thead>\n",
       "  <tbody>\n",
       "    <tr>\n",
       "      <th>0</th>\n",
       "      <td>1000004</td>\n",
       "      <td>P00128942</td>\n",
       "      <td>M</td>\n",
       "      <td>46-50</td>\n",
       "      <td>7</td>\n",
       "      <td>B</td>\n",
       "      <td>2</td>\n",
       "      <td>1</td>\n",
       "      <td>1</td>\n",
       "      <td>11.0</td>\n",
       "      <td>NaN</td>\n",
       "    </tr>\n",
       "    <tr>\n",
       "      <th>1</th>\n",
       "      <td>1000009</td>\n",
       "      <td>P00113442</td>\n",
       "      <td>M</td>\n",
       "      <td>26-35</td>\n",
       "      <td>17</td>\n",
       "      <td>C</td>\n",
       "      <td>0</td>\n",
       "      <td>0</td>\n",
       "      <td>3</td>\n",
       "      <td>5.0</td>\n",
       "      <td>NaN</td>\n",
       "    </tr>\n",
       "    <tr>\n",
       "      <th>2</th>\n",
       "      <td>1000010</td>\n",
       "      <td>P00288442</td>\n",
       "      <td>F</td>\n",
       "      <td>36-45</td>\n",
       "      <td>1</td>\n",
       "      <td>B</td>\n",
       "      <td>4+</td>\n",
       "      <td>1</td>\n",
       "      <td>5</td>\n",
       "      <td>14.0</td>\n",
       "      <td>NaN</td>\n",
       "    </tr>\n",
       "    <tr>\n",
       "      <th>3</th>\n",
       "      <td>1000010</td>\n",
       "      <td>P00145342</td>\n",
       "      <td>F</td>\n",
       "      <td>36-45</td>\n",
       "      <td>1</td>\n",
       "      <td>B</td>\n",
       "      <td>4+</td>\n",
       "      <td>1</td>\n",
       "      <td>4</td>\n",
       "      <td>9.0</td>\n",
       "      <td>NaN</td>\n",
       "    </tr>\n",
       "    <tr>\n",
       "      <th>4</th>\n",
       "      <td>1000011</td>\n",
       "      <td>P00053842</td>\n",
       "      <td>F</td>\n",
       "      <td>26-35</td>\n",
       "      <td>1</td>\n",
       "      <td>C</td>\n",
       "      <td>1</td>\n",
       "      <td>0</td>\n",
       "      <td>4</td>\n",
       "      <td>5.0</td>\n",
       "      <td>12.0</td>\n",
       "    </tr>\n",
       "  </tbody>\n",
       "</table>\n",
       "</div>"
      ],
      "text/plain": [
       "   User_ID Product_ID Gender    Age  Occupation City_Category  \\\n",
       "0  1000004  P00128942      M  46-50           7             B   \n",
       "1  1000009  P00113442      M  26-35          17             C   \n",
       "2  1000010  P00288442      F  36-45           1             B   \n",
       "3  1000010  P00145342      F  36-45           1             B   \n",
       "4  1000011  P00053842      F  26-35           1             C   \n",
       "\n",
       "  Stay_In_Current_City_Years  Marital_Status  Product_Category_1  \\\n",
       "0                          2               1                   1   \n",
       "1                          0               0                   3   \n",
       "2                         4+               1                   5   \n",
       "3                         4+               1                   4   \n",
       "4                          1               0                   4   \n",
       "\n",
       "   Product_Category_2  Product_Category_3  \n",
       "0                11.0                 NaN  \n",
       "1                 5.0                 NaN  \n",
       "2                14.0                 NaN  \n",
       "3                 9.0                 NaN  \n",
       "4                 5.0                12.0  "
      ]
     },
     "execution_count": 4,
     "metadata": {},
     "output_type": "execute_result"
    }
   ],
   "source": [
    "df.head()"
   ]
  },
  {
   "cell_type": "code",
   "execution_count": 5,
   "id": "5787e4cd",
   "metadata": {},
   "outputs": [
    {
     "name": "stdout",
     "output_type": "stream",
     "text": [
      "<class 'pandas.core.frame.DataFrame'>\n",
      "RangeIndex: 233599 entries, 0 to 233598\n",
      "Data columns (total 11 columns):\n",
      " #   Column                      Non-Null Count   Dtype  \n",
      "---  ------                      --------------   -----  \n",
      " 0   User_ID                     233599 non-null  int64  \n",
      " 1   Product_ID                  233599 non-null  object \n",
      " 2   Gender                      233599 non-null  object \n",
      " 3   Age                         233599 non-null  object \n",
      " 4   Occupation                  233599 non-null  int64  \n",
      " 5   City_Category               233599 non-null  object \n",
      " 6   Stay_In_Current_City_Years  233599 non-null  object \n",
      " 7   Marital_Status              233599 non-null  int64  \n",
      " 8   Product_Category_1          233599 non-null  int64  \n",
      " 9   Product_Category_2          161255 non-null  float64\n",
      " 10  Product_Category_3          71037 non-null   float64\n",
      "dtypes: float64(2), int64(4), object(5)\n",
      "memory usage: 19.6+ MB\n"
     ]
    }
   ],
   "source": [
    "df.info()"
   ]
  },
  {
   "cell_type": "code",
   "execution_count": 6,
   "id": "65fff594",
   "metadata": {},
   "outputs": [
    {
     "data": {
      "text/html": [
       "<div>\n",
       "<style scoped>\n",
       "    .dataframe tbody tr th:only-of-type {\n",
       "        vertical-align: middle;\n",
       "    }\n",
       "\n",
       "    .dataframe tbody tr th {\n",
       "        vertical-align: top;\n",
       "    }\n",
       "\n",
       "    .dataframe thead th {\n",
       "        text-align: right;\n",
       "    }\n",
       "</style>\n",
       "<table border=\"1\" class=\"dataframe\">\n",
       "  <thead>\n",
       "    <tr style=\"text-align: right;\">\n",
       "      <th></th>\n",
       "      <th>User_ID</th>\n",
       "      <th>Occupation</th>\n",
       "      <th>Marital_Status</th>\n",
       "      <th>Product_Category_1</th>\n",
       "      <th>Product_Category_2</th>\n",
       "      <th>Product_Category_3</th>\n",
       "    </tr>\n",
       "  </thead>\n",
       "  <tbody>\n",
       "    <tr>\n",
       "      <th>count</th>\n",
       "      <td>2.335990e+05</td>\n",
       "      <td>233599.000000</td>\n",
       "      <td>233599.000000</td>\n",
       "      <td>233599.000000</td>\n",
       "      <td>161255.000000</td>\n",
       "      <td>71037.000000</td>\n",
       "    </tr>\n",
       "    <tr>\n",
       "      <th>mean</th>\n",
       "      <td>1.003029e+06</td>\n",
       "      <td>8.085407</td>\n",
       "      <td>0.410070</td>\n",
       "      <td>5.276542</td>\n",
       "      <td>9.849586</td>\n",
       "      <td>12.669454</td>\n",
       "    </tr>\n",
       "    <tr>\n",
       "      <th>std</th>\n",
       "      <td>1.726505e+03</td>\n",
       "      <td>6.521146</td>\n",
       "      <td>0.491847</td>\n",
       "      <td>3.736380</td>\n",
       "      <td>5.094943</td>\n",
       "      <td>4.125944</td>\n",
       "    </tr>\n",
       "    <tr>\n",
       "      <th>min</th>\n",
       "      <td>1.000001e+06</td>\n",
       "      <td>0.000000</td>\n",
       "      <td>0.000000</td>\n",
       "      <td>1.000000</td>\n",
       "      <td>2.000000</td>\n",
       "      <td>3.000000</td>\n",
       "    </tr>\n",
       "    <tr>\n",
       "      <th>25%</th>\n",
       "      <td>1.001527e+06</td>\n",
       "      <td>2.000000</td>\n",
       "      <td>0.000000</td>\n",
       "      <td>1.000000</td>\n",
       "      <td>5.000000</td>\n",
       "      <td>9.000000</td>\n",
       "    </tr>\n",
       "    <tr>\n",
       "      <th>50%</th>\n",
       "      <td>1.003070e+06</td>\n",
       "      <td>7.000000</td>\n",
       "      <td>0.000000</td>\n",
       "      <td>5.000000</td>\n",
       "      <td>9.000000</td>\n",
       "      <td>14.000000</td>\n",
       "    </tr>\n",
       "    <tr>\n",
       "      <th>75%</th>\n",
       "      <td>1.004477e+06</td>\n",
       "      <td>14.000000</td>\n",
       "      <td>1.000000</td>\n",
       "      <td>8.000000</td>\n",
       "      <td>15.000000</td>\n",
       "      <td>16.000000</td>\n",
       "    </tr>\n",
       "    <tr>\n",
       "      <th>max</th>\n",
       "      <td>1.006040e+06</td>\n",
       "      <td>20.000000</td>\n",
       "      <td>1.000000</td>\n",
       "      <td>18.000000</td>\n",
       "      <td>18.000000</td>\n",
       "      <td>18.000000</td>\n",
       "    </tr>\n",
       "  </tbody>\n",
       "</table>\n",
       "</div>"
      ],
      "text/plain": [
       "            User_ID     Occupation  Marital_Status  Product_Category_1  \\\n",
       "count  2.335990e+05  233599.000000   233599.000000       233599.000000   \n",
       "mean   1.003029e+06       8.085407        0.410070            5.276542   \n",
       "std    1.726505e+03       6.521146        0.491847            3.736380   \n",
       "min    1.000001e+06       0.000000        0.000000            1.000000   \n",
       "25%    1.001527e+06       2.000000        0.000000            1.000000   \n",
       "50%    1.003070e+06       7.000000        0.000000            5.000000   \n",
       "75%    1.004477e+06      14.000000        1.000000            8.000000   \n",
       "max    1.006040e+06      20.000000        1.000000           18.000000   \n",
       "\n",
       "       Product_Category_2  Product_Category_3  \n",
       "count       161255.000000        71037.000000  \n",
       "mean             9.849586           12.669454  \n",
       "std              5.094943            4.125944  \n",
       "min              2.000000            3.000000  \n",
       "25%              5.000000            9.000000  \n",
       "50%              9.000000           14.000000  \n",
       "75%             15.000000           16.000000  \n",
       "max             18.000000           18.000000  "
      ]
     },
     "execution_count": 6,
     "metadata": {},
     "output_type": "execute_result"
    }
   ],
   "source": [
    "df.describe()"
   ]
  },
  {
   "cell_type": "code",
   "execution_count": 7,
   "id": "85d3fa21",
   "metadata": {},
   "outputs": [
    {
     "data": {
      "text/plain": [
       "User_ID                            0\n",
       "Product_ID                         0\n",
       "Gender                             0\n",
       "Age                                0\n",
       "Occupation                         0\n",
       "City_Category                      0\n",
       "Stay_In_Current_City_Years         0\n",
       "Marital_Status                     0\n",
       "Product_Category_1                 0\n",
       "Product_Category_2             72344\n",
       "Product_Category_3            162562\n",
       "dtype: int64"
      ]
     },
     "execution_count": 7,
     "metadata": {},
     "output_type": "execute_result"
    }
   ],
   "source": [
    "df.isnull().sum()"
   ]
  },
  {
   "cell_type": "code",
   "execution_count": 8,
   "id": "f0b5bce8",
   "metadata": {},
   "outputs": [
    {
     "data": {
      "text/html": [
       "<div>\n",
       "<style scoped>\n",
       "    .dataframe tbody tr th:only-of-type {\n",
       "        vertical-align: middle;\n",
       "    }\n",
       "\n",
       "    .dataframe tbody tr th {\n",
       "        vertical-align: top;\n",
       "    }\n",
       "\n",
       "    .dataframe thead th {\n",
       "        text-align: right;\n",
       "    }\n",
       "</style>\n",
       "<table border=\"1\" class=\"dataframe\">\n",
       "  <thead>\n",
       "    <tr style=\"text-align: right;\">\n",
       "      <th></th>\n",
       "      <th>User_ID</th>\n",
       "      <th>Product_ID</th>\n",
       "      <th>Gender</th>\n",
       "      <th>Age</th>\n",
       "      <th>Occupation</th>\n",
       "      <th>City_Category</th>\n",
       "      <th>Stay_In_Current_City_Years</th>\n",
       "      <th>Marital_Status</th>\n",
       "      <th>Product_Category_1</th>\n",
       "      <th>Product_Category_2</th>\n",
       "      <th>Product_Category_3</th>\n",
       "    </tr>\n",
       "  </thead>\n",
       "  <tbody>\n",
       "    <tr>\n",
       "      <th>0</th>\n",
       "      <td>False</td>\n",
       "      <td>False</td>\n",
       "      <td>False</td>\n",
       "      <td>False</td>\n",
       "      <td>False</td>\n",
       "      <td>False</td>\n",
       "      <td>False</td>\n",
       "      <td>False</td>\n",
       "      <td>False</td>\n",
       "      <td>False</td>\n",
       "      <td>True</td>\n",
       "    </tr>\n",
       "    <tr>\n",
       "      <th>1</th>\n",
       "      <td>False</td>\n",
       "      <td>False</td>\n",
       "      <td>False</td>\n",
       "      <td>False</td>\n",
       "      <td>False</td>\n",
       "      <td>False</td>\n",
       "      <td>False</td>\n",
       "      <td>False</td>\n",
       "      <td>False</td>\n",
       "      <td>False</td>\n",
       "      <td>True</td>\n",
       "    </tr>\n",
       "    <tr>\n",
       "      <th>2</th>\n",
       "      <td>False</td>\n",
       "      <td>False</td>\n",
       "      <td>False</td>\n",
       "      <td>False</td>\n",
       "      <td>False</td>\n",
       "      <td>False</td>\n",
       "      <td>False</td>\n",
       "      <td>False</td>\n",
       "      <td>False</td>\n",
       "      <td>False</td>\n",
       "      <td>True</td>\n",
       "    </tr>\n",
       "    <tr>\n",
       "      <th>3</th>\n",
       "      <td>False</td>\n",
       "      <td>False</td>\n",
       "      <td>False</td>\n",
       "      <td>False</td>\n",
       "      <td>False</td>\n",
       "      <td>False</td>\n",
       "      <td>False</td>\n",
       "      <td>False</td>\n",
       "      <td>False</td>\n",
       "      <td>False</td>\n",
       "      <td>True</td>\n",
       "    </tr>\n",
       "    <tr>\n",
       "      <th>4</th>\n",
       "      <td>False</td>\n",
       "      <td>False</td>\n",
       "      <td>False</td>\n",
       "      <td>False</td>\n",
       "      <td>False</td>\n",
       "      <td>False</td>\n",
       "      <td>False</td>\n",
       "      <td>False</td>\n",
       "      <td>False</td>\n",
       "      <td>False</td>\n",
       "      <td>False</td>\n",
       "    </tr>\n",
       "    <tr>\n",
       "      <th>...</th>\n",
       "      <td>...</td>\n",
       "      <td>...</td>\n",
       "      <td>...</td>\n",
       "      <td>...</td>\n",
       "      <td>...</td>\n",
       "      <td>...</td>\n",
       "      <td>...</td>\n",
       "      <td>...</td>\n",
       "      <td>...</td>\n",
       "      <td>...</td>\n",
       "      <td>...</td>\n",
       "    </tr>\n",
       "    <tr>\n",
       "      <th>233594</th>\n",
       "      <td>False</td>\n",
       "      <td>False</td>\n",
       "      <td>False</td>\n",
       "      <td>False</td>\n",
       "      <td>False</td>\n",
       "      <td>False</td>\n",
       "      <td>False</td>\n",
       "      <td>False</td>\n",
       "      <td>False</td>\n",
       "      <td>True</td>\n",
       "      <td>True</td>\n",
       "    </tr>\n",
       "    <tr>\n",
       "      <th>233595</th>\n",
       "      <td>False</td>\n",
       "      <td>False</td>\n",
       "      <td>False</td>\n",
       "      <td>False</td>\n",
       "      <td>False</td>\n",
       "      <td>False</td>\n",
       "      <td>False</td>\n",
       "      <td>False</td>\n",
       "      <td>False</td>\n",
       "      <td>False</td>\n",
       "      <td>True</td>\n",
       "    </tr>\n",
       "    <tr>\n",
       "      <th>233596</th>\n",
       "      <td>False</td>\n",
       "      <td>False</td>\n",
       "      <td>False</td>\n",
       "      <td>False</td>\n",
       "      <td>False</td>\n",
       "      <td>False</td>\n",
       "      <td>False</td>\n",
       "      <td>False</td>\n",
       "      <td>False</td>\n",
       "      <td>False</td>\n",
       "      <td>False</td>\n",
       "    </tr>\n",
       "    <tr>\n",
       "      <th>233597</th>\n",
       "      <td>False</td>\n",
       "      <td>False</td>\n",
       "      <td>False</td>\n",
       "      <td>False</td>\n",
       "      <td>False</td>\n",
       "      <td>False</td>\n",
       "      <td>False</td>\n",
       "      <td>False</td>\n",
       "      <td>False</td>\n",
       "      <td>False</td>\n",
       "      <td>True</td>\n",
       "    </tr>\n",
       "    <tr>\n",
       "      <th>233598</th>\n",
       "      <td>False</td>\n",
       "      <td>False</td>\n",
       "      <td>False</td>\n",
       "      <td>False</td>\n",
       "      <td>False</td>\n",
       "      <td>False</td>\n",
       "      <td>False</td>\n",
       "      <td>False</td>\n",
       "      <td>False</td>\n",
       "      <td>False</td>\n",
       "      <td>True</td>\n",
       "    </tr>\n",
       "  </tbody>\n",
       "</table>\n",
       "<p>233599 rows × 11 columns</p>\n",
       "</div>"
      ],
      "text/plain": [
       "        User_ID  Product_ID  Gender    Age  Occupation  City_Category  \\\n",
       "0         False       False   False  False       False          False   \n",
       "1         False       False   False  False       False          False   \n",
       "2         False       False   False  False       False          False   \n",
       "3         False       False   False  False       False          False   \n",
       "4         False       False   False  False       False          False   \n",
       "...         ...         ...     ...    ...         ...            ...   \n",
       "233594    False       False   False  False       False          False   \n",
       "233595    False       False   False  False       False          False   \n",
       "233596    False       False   False  False       False          False   \n",
       "233597    False       False   False  False       False          False   \n",
       "233598    False       False   False  False       False          False   \n",
       "\n",
       "        Stay_In_Current_City_Years  Marital_Status  Product_Category_1  \\\n",
       "0                            False           False               False   \n",
       "1                            False           False               False   \n",
       "2                            False           False               False   \n",
       "3                            False           False               False   \n",
       "4                            False           False               False   \n",
       "...                            ...             ...                 ...   \n",
       "233594                       False           False               False   \n",
       "233595                       False           False               False   \n",
       "233596                       False           False               False   \n",
       "233597                       False           False               False   \n",
       "233598                       False           False               False   \n",
       "\n",
       "        Product_Category_2  Product_Category_3  \n",
       "0                    False                True  \n",
       "1                    False                True  \n",
       "2                    False                True  \n",
       "3                    False                True  \n",
       "4                    False               False  \n",
       "...                    ...                 ...  \n",
       "233594                True                True  \n",
       "233595               False                True  \n",
       "233596               False               False  \n",
       "233597               False                True  \n",
       "233598               False                True  \n",
       "\n",
       "[233599 rows x 11 columns]"
      ]
     },
     "execution_count": 8,
     "metadata": {},
     "output_type": "execute_result"
    }
   ],
   "source": [
    "df.isnull()"
   ]
  },
  {
   "cell_type": "code",
   "execution_count": 9,
   "id": "2e8e166d",
   "metadata": {},
   "outputs": [
    {
     "data": {
      "text/html": [
       "<div>\n",
       "<style scoped>\n",
       "    .dataframe tbody tr th:only-of-type {\n",
       "        vertical-align: middle;\n",
       "    }\n",
       "\n",
       "    .dataframe tbody tr th {\n",
       "        vertical-align: top;\n",
       "    }\n",
       "\n",
       "    .dataframe thead th {\n",
       "        text-align: right;\n",
       "    }\n",
       "</style>\n",
       "<table border=\"1\" class=\"dataframe\">\n",
       "  <thead>\n",
       "    <tr style=\"text-align: right;\">\n",
       "      <th></th>\n",
       "      <th>User_ID</th>\n",
       "      <th>Product_ID</th>\n",
       "      <th>Gender</th>\n",
       "      <th>Age</th>\n",
       "      <th>Occupation</th>\n",
       "      <th>City_Category</th>\n",
       "      <th>Stay_In_Current_City_Years</th>\n",
       "      <th>Marital_Status</th>\n",
       "      <th>Product_Category_1</th>\n",
       "      <th>Product_Category_2</th>\n",
       "      <th>Product_Category_3</th>\n",
       "    </tr>\n",
       "  </thead>\n",
       "  <tbody>\n",
       "    <tr>\n",
       "      <th>4</th>\n",
       "      <td>1000011</td>\n",
       "      <td>P00053842</td>\n",
       "      <td>F</td>\n",
       "      <td>26-35</td>\n",
       "      <td>1</td>\n",
       "      <td>C</td>\n",
       "      <td>1</td>\n",
       "      <td>0</td>\n",
       "      <td>4</td>\n",
       "      <td>5.0</td>\n",
       "      <td>12.0</td>\n",
       "    </tr>\n",
       "    <tr>\n",
       "      <th>5</th>\n",
       "      <td>1000013</td>\n",
       "      <td>P00350442</td>\n",
       "      <td>M</td>\n",
       "      <td>46-50</td>\n",
       "      <td>1</td>\n",
       "      <td>C</td>\n",
       "      <td>3</td>\n",
       "      <td>1</td>\n",
       "      <td>2</td>\n",
       "      <td>3.0</td>\n",
       "      <td>15.0</td>\n",
       "    </tr>\n",
       "    <tr>\n",
       "      <th>6</th>\n",
       "      <td>1000013</td>\n",
       "      <td>P00155442</td>\n",
       "      <td>M</td>\n",
       "      <td>46-50</td>\n",
       "      <td>1</td>\n",
       "      <td>C</td>\n",
       "      <td>3</td>\n",
       "      <td>1</td>\n",
       "      <td>1</td>\n",
       "      <td>11.0</td>\n",
       "      <td>15.0</td>\n",
       "    </tr>\n",
       "    <tr>\n",
       "      <th>7</th>\n",
       "      <td>1000013</td>\n",
       "      <td>P0094542</td>\n",
       "      <td>M</td>\n",
       "      <td>46-50</td>\n",
       "      <td>1</td>\n",
       "      <td>C</td>\n",
       "      <td>3</td>\n",
       "      <td>1</td>\n",
       "      <td>2</td>\n",
       "      <td>4.0</td>\n",
       "      <td>9.0</td>\n",
       "    </tr>\n",
       "    <tr>\n",
       "      <th>8</th>\n",
       "      <td>1000015</td>\n",
       "      <td>P00161842</td>\n",
       "      <td>M</td>\n",
       "      <td>26-35</td>\n",
       "      <td>7</td>\n",
       "      <td>A</td>\n",
       "      <td>1</td>\n",
       "      <td>0</td>\n",
       "      <td>10</td>\n",
       "      <td>13.0</td>\n",
       "      <td>16.0</td>\n",
       "    </tr>\n",
       "    <tr>\n",
       "      <th>...</th>\n",
       "      <td>...</td>\n",
       "      <td>...</td>\n",
       "      <td>...</td>\n",
       "      <td>...</td>\n",
       "      <td>...</td>\n",
       "      <td>...</td>\n",
       "      <td>...</td>\n",
       "      <td>...</td>\n",
       "      <td>...</td>\n",
       "      <td>...</td>\n",
       "      <td>...</td>\n",
       "    </tr>\n",
       "    <tr>\n",
       "      <th>233584</th>\n",
       "      <td>1006023</td>\n",
       "      <td>P00262242</td>\n",
       "      <td>M</td>\n",
       "      <td>26-35</td>\n",
       "      <td>0</td>\n",
       "      <td>C</td>\n",
       "      <td>2</td>\n",
       "      <td>1</td>\n",
       "      <td>1</td>\n",
       "      <td>11.0</td>\n",
       "      <td>16.0</td>\n",
       "    </tr>\n",
       "    <tr>\n",
       "      <th>233586</th>\n",
       "      <td>1006026</td>\n",
       "      <td>P00110742</td>\n",
       "      <td>M</td>\n",
       "      <td>36-45</td>\n",
       "      <td>6</td>\n",
       "      <td>C</td>\n",
       "      <td>1</td>\n",
       "      <td>1</td>\n",
       "      <td>1</td>\n",
       "      <td>2.0</td>\n",
       "      <td>8.0</td>\n",
       "    </tr>\n",
       "    <tr>\n",
       "      <th>233588</th>\n",
       "      <td>1006030</td>\n",
       "      <td>P00129842</td>\n",
       "      <td>M</td>\n",
       "      <td>26-35</td>\n",
       "      <td>17</td>\n",
       "      <td>C</td>\n",
       "      <td>1</td>\n",
       "      <td>1</td>\n",
       "      <td>6</td>\n",
       "      <td>8.0</td>\n",
       "      <td>15.0</td>\n",
       "    </tr>\n",
       "    <tr>\n",
       "      <th>233591</th>\n",
       "      <td>1006033</td>\n",
       "      <td>P00127642</td>\n",
       "      <td>M</td>\n",
       "      <td>51-55</td>\n",
       "      <td>13</td>\n",
       "      <td>B</td>\n",
       "      <td>1</td>\n",
       "      <td>1</td>\n",
       "      <td>1</td>\n",
       "      <td>2.0</td>\n",
       "      <td>15.0</td>\n",
       "    </tr>\n",
       "    <tr>\n",
       "      <th>233596</th>\n",
       "      <td>1006036</td>\n",
       "      <td>P00031842</td>\n",
       "      <td>F</td>\n",
       "      <td>26-35</td>\n",
       "      <td>15</td>\n",
       "      <td>B</td>\n",
       "      <td>4+</td>\n",
       "      <td>1</td>\n",
       "      <td>1</td>\n",
       "      <td>5.0</td>\n",
       "      <td>12.0</td>\n",
       "    </tr>\n",
       "  </tbody>\n",
       "</table>\n",
       "<p>71037 rows × 11 columns</p>\n",
       "</div>"
      ],
      "text/plain": [
       "        User_ID Product_ID Gender    Age  Occupation City_Category  \\\n",
       "4       1000011  P00053842      F  26-35           1             C   \n",
       "5       1000013  P00350442      M  46-50           1             C   \n",
       "6       1000013  P00155442      M  46-50           1             C   \n",
       "7       1000013   P0094542      M  46-50           1             C   \n",
       "8       1000015  P00161842      M  26-35           7             A   \n",
       "...         ...        ...    ...    ...         ...           ...   \n",
       "233584  1006023  P00262242      M  26-35           0             C   \n",
       "233586  1006026  P00110742      M  36-45           6             C   \n",
       "233588  1006030  P00129842      M  26-35          17             C   \n",
       "233591  1006033  P00127642      M  51-55          13             B   \n",
       "233596  1006036  P00031842      F  26-35          15             B   \n",
       "\n",
       "       Stay_In_Current_City_Years  Marital_Status  Product_Category_1  \\\n",
       "4                               1               0                   4   \n",
       "5                               3               1                   2   \n",
       "6                               3               1                   1   \n",
       "7                               3               1                   2   \n",
       "8                               1               0                  10   \n",
       "...                           ...             ...                 ...   \n",
       "233584                          2               1                   1   \n",
       "233586                          1               1                   1   \n",
       "233588                          1               1                   6   \n",
       "233591                          1               1                   1   \n",
       "233596                         4+               1                   1   \n",
       "\n",
       "        Product_Category_2  Product_Category_3  \n",
       "4                      5.0                12.0  \n",
       "5                      3.0                15.0  \n",
       "6                     11.0                15.0  \n",
       "7                      4.0                 9.0  \n",
       "8                     13.0                16.0  \n",
       "...                    ...                 ...  \n",
       "233584                11.0                16.0  \n",
       "233586                 2.0                 8.0  \n",
       "233588                 8.0                15.0  \n",
       "233591                 2.0                15.0  \n",
       "233596                 5.0                12.0  \n",
       "\n",
       "[71037 rows x 11 columns]"
      ]
     },
     "execution_count": 9,
     "metadata": {},
     "output_type": "execute_result"
    }
   ],
   "source": [
    "df.dropna()"
   ]
  },
  {
   "cell_type": "code",
   "execution_count": 10,
   "id": "07eb25d0",
   "metadata": {},
   "outputs": [
    {
     "data": {
      "text/plain": [
       "User_ID                            0\n",
       "Product_ID                         0\n",
       "Gender                             0\n",
       "Age                                0\n",
       "Occupation                         0\n",
       "City_Category                      0\n",
       "Stay_In_Current_City_Years         0\n",
       "Marital_Status                     0\n",
       "Product_Category_1                 0\n",
       "Product_Category_2             72344\n",
       "Product_Category_3            162562\n",
       "dtype: int64"
      ]
     },
     "execution_count": 10,
     "metadata": {},
     "output_type": "execute_result"
    }
   ],
   "source": [
    "df.isnull().sum()"
   ]
  },
  {
   "cell_type": "code",
   "execution_count": 11,
   "id": "cf38d82f",
   "metadata": {},
   "outputs": [],
   "source": [
    "del df['Product_Category_2']\n",
    "del df['Product_Category_3']"
   ]
  },
  {
   "cell_type": "code",
   "execution_count": 12,
   "id": "4710bdce",
   "metadata": {},
   "outputs": [
    {
     "data": {
      "text/html": [
       "<div>\n",
       "<style scoped>\n",
       "    .dataframe tbody tr th:only-of-type {\n",
       "        vertical-align: middle;\n",
       "    }\n",
       "\n",
       "    .dataframe tbody tr th {\n",
       "        vertical-align: top;\n",
       "    }\n",
       "\n",
       "    .dataframe thead th {\n",
       "        text-align: right;\n",
       "    }\n",
       "</style>\n",
       "<table border=\"1\" class=\"dataframe\">\n",
       "  <thead>\n",
       "    <tr style=\"text-align: right;\">\n",
       "      <th></th>\n",
       "      <th>User_ID</th>\n",
       "      <th>Product_ID</th>\n",
       "      <th>Gender</th>\n",
       "      <th>Age</th>\n",
       "      <th>Occupation</th>\n",
       "      <th>City_Category</th>\n",
       "      <th>Stay_In_Current_City_Years</th>\n",
       "      <th>Marital_Status</th>\n",
       "      <th>Product_Category_1</th>\n",
       "    </tr>\n",
       "  </thead>\n",
       "  <tbody>\n",
       "    <tr>\n",
       "      <th>0</th>\n",
       "      <td>1000004</td>\n",
       "      <td>P00128942</td>\n",
       "      <td>M</td>\n",
       "      <td>46-50</td>\n",
       "      <td>7</td>\n",
       "      <td>B</td>\n",
       "      <td>2</td>\n",
       "      <td>1</td>\n",
       "      <td>1</td>\n",
       "    </tr>\n",
       "    <tr>\n",
       "      <th>1</th>\n",
       "      <td>1000009</td>\n",
       "      <td>P00113442</td>\n",
       "      <td>M</td>\n",
       "      <td>26-35</td>\n",
       "      <td>17</td>\n",
       "      <td>C</td>\n",
       "      <td>0</td>\n",
       "      <td>0</td>\n",
       "      <td>3</td>\n",
       "    </tr>\n",
       "    <tr>\n",
       "      <th>2</th>\n",
       "      <td>1000010</td>\n",
       "      <td>P00288442</td>\n",
       "      <td>F</td>\n",
       "      <td>36-45</td>\n",
       "      <td>1</td>\n",
       "      <td>B</td>\n",
       "      <td>4+</td>\n",
       "      <td>1</td>\n",
       "      <td>5</td>\n",
       "    </tr>\n",
       "    <tr>\n",
       "      <th>3</th>\n",
       "      <td>1000010</td>\n",
       "      <td>P00145342</td>\n",
       "      <td>F</td>\n",
       "      <td>36-45</td>\n",
       "      <td>1</td>\n",
       "      <td>B</td>\n",
       "      <td>4+</td>\n",
       "      <td>1</td>\n",
       "      <td>4</td>\n",
       "    </tr>\n",
       "    <tr>\n",
       "      <th>4</th>\n",
       "      <td>1000011</td>\n",
       "      <td>P00053842</td>\n",
       "      <td>F</td>\n",
       "      <td>26-35</td>\n",
       "      <td>1</td>\n",
       "      <td>C</td>\n",
       "      <td>1</td>\n",
       "      <td>0</td>\n",
       "      <td>4</td>\n",
       "    </tr>\n",
       "    <tr>\n",
       "      <th>...</th>\n",
       "      <td>...</td>\n",
       "      <td>...</td>\n",
       "      <td>...</td>\n",
       "      <td>...</td>\n",
       "      <td>...</td>\n",
       "      <td>...</td>\n",
       "      <td>...</td>\n",
       "      <td>...</td>\n",
       "      <td>...</td>\n",
       "    </tr>\n",
       "    <tr>\n",
       "      <th>233594</th>\n",
       "      <td>1006036</td>\n",
       "      <td>P00118942</td>\n",
       "      <td>F</td>\n",
       "      <td>26-35</td>\n",
       "      <td>15</td>\n",
       "      <td>B</td>\n",
       "      <td>4+</td>\n",
       "      <td>1</td>\n",
       "      <td>8</td>\n",
       "    </tr>\n",
       "    <tr>\n",
       "      <th>233595</th>\n",
       "      <td>1006036</td>\n",
       "      <td>P00254642</td>\n",
       "      <td>F</td>\n",
       "      <td>26-35</td>\n",
       "      <td>15</td>\n",
       "      <td>B</td>\n",
       "      <td>4+</td>\n",
       "      <td>1</td>\n",
       "      <td>5</td>\n",
       "    </tr>\n",
       "    <tr>\n",
       "      <th>233596</th>\n",
       "      <td>1006036</td>\n",
       "      <td>P00031842</td>\n",
       "      <td>F</td>\n",
       "      <td>26-35</td>\n",
       "      <td>15</td>\n",
       "      <td>B</td>\n",
       "      <td>4+</td>\n",
       "      <td>1</td>\n",
       "      <td>1</td>\n",
       "    </tr>\n",
       "    <tr>\n",
       "      <th>233597</th>\n",
       "      <td>1006037</td>\n",
       "      <td>P00124742</td>\n",
       "      <td>F</td>\n",
       "      <td>46-50</td>\n",
       "      <td>1</td>\n",
       "      <td>C</td>\n",
       "      <td>4+</td>\n",
       "      <td>0</td>\n",
       "      <td>10</td>\n",
       "    </tr>\n",
       "    <tr>\n",
       "      <th>233598</th>\n",
       "      <td>1006039</td>\n",
       "      <td>P00316642</td>\n",
       "      <td>F</td>\n",
       "      <td>46-50</td>\n",
       "      <td>0</td>\n",
       "      <td>B</td>\n",
       "      <td>4+</td>\n",
       "      <td>1</td>\n",
       "      <td>4</td>\n",
       "    </tr>\n",
       "  </tbody>\n",
       "</table>\n",
       "<p>233599 rows × 9 columns</p>\n",
       "</div>"
      ],
      "text/plain": [
       "        User_ID Product_ID Gender    Age  Occupation City_Category  \\\n",
       "0       1000004  P00128942      M  46-50           7             B   \n",
       "1       1000009  P00113442      M  26-35          17             C   \n",
       "2       1000010  P00288442      F  36-45           1             B   \n",
       "3       1000010  P00145342      F  36-45           1             B   \n",
       "4       1000011  P00053842      F  26-35           1             C   \n",
       "...         ...        ...    ...    ...         ...           ...   \n",
       "233594  1006036  P00118942      F  26-35          15             B   \n",
       "233595  1006036  P00254642      F  26-35          15             B   \n",
       "233596  1006036  P00031842      F  26-35          15             B   \n",
       "233597  1006037  P00124742      F  46-50           1             C   \n",
       "233598  1006039  P00316642      F  46-50           0             B   \n",
       "\n",
       "       Stay_In_Current_City_Years  Marital_Status  Product_Category_1  \n",
       "0                               2               1                   1  \n",
       "1                               0               0                   3  \n",
       "2                              4+               1                   5  \n",
       "3                              4+               1                   4  \n",
       "4                               1               0                   4  \n",
       "...                           ...             ...                 ...  \n",
       "233594                         4+               1                   8  \n",
       "233595                         4+               1                   5  \n",
       "233596                         4+               1                   1  \n",
       "233597                         4+               0                  10  \n",
       "233598                         4+               1                   4  \n",
       "\n",
       "[233599 rows x 9 columns]"
      ]
     },
     "execution_count": 12,
     "metadata": {},
     "output_type": "execute_result"
    }
   ],
   "source": [
    "df"
   ]
  },
  {
   "cell_type": "code",
   "execution_count": 13,
   "id": "bff23a35",
   "metadata": {},
   "outputs": [
    {
     "data": {
      "text/plain": [
       "5891"
      ]
     },
     "execution_count": 13,
     "metadata": {},
     "output_type": "execute_result"
    }
   ],
   "source": [
    "df['User_ID'].nunique()    "
   ]
  },
  {
   "cell_type": "code",
   "execution_count": 14,
   "id": "8459c80d",
   "metadata": {},
   "outputs": [
    {
     "data": {
      "text/plain": [
       "array([1000004, 1000009, 1000010, ..., 1001656, 1005796, 1001189],\n",
       "      dtype=int64)"
      ]
     },
     "execution_count": 14,
     "metadata": {},
     "output_type": "execute_result"
    }
   ],
   "source": [
    "df['User_ID'].unique()"
   ]
  },
  {
   "cell_type": "code",
   "execution_count": 15,
   "id": "f33e0a9a",
   "metadata": {},
   "outputs": [
    {
     "data": {
      "text/plain": [
       "3491"
      ]
     },
     "execution_count": 15,
     "metadata": {},
     "output_type": "execute_result"
    }
   ],
   "source": [
    "df['Product_ID'].nunique()"
   ]
  },
  {
   "cell_type": "code",
   "execution_count": 16,
   "id": "90cf57c7",
   "metadata": {},
   "outputs": [
    {
     "data": {
      "text/plain": [
       "array(['M', 'F'], dtype=object)"
      ]
     },
     "execution_count": 16,
     "metadata": {},
     "output_type": "execute_result"
    }
   ],
   "source": [
    "df['Gender'].unique()"
   ]
  },
  {
   "cell_type": "code",
   "execution_count": 17,
   "id": "771e768e",
   "metadata": {},
   "outputs": [
    {
     "data": {
      "text/plain": [
       "array(['46-50', '26-35', '36-45', '18-25', '51-55', '55+', '0-17'],\n",
       "      dtype=object)"
      ]
     },
     "execution_count": 17,
     "metadata": {},
     "output_type": "execute_result"
    }
   ],
   "source": [
    "df['Age'].unique()"
   ]
  },
  {
   "cell_type": "code",
   "execution_count": 18,
   "id": "680d05e2",
   "metadata": {},
   "outputs": [
    {
     "data": {
      "text/plain": [
       "array([ 7, 17,  1, 15,  3,  0,  8, 16,  4, 12, 13, 18, 11,  9,  2, 20, 14,\n",
       "       10,  6, 19,  5], dtype=int64)"
      ]
     },
     "execution_count": 18,
     "metadata": {},
     "output_type": "execute_result"
    }
   ],
   "source": [
    "df['Occupation'].unique()"
   ]
  },
  {
   "cell_type": "code",
   "execution_count": 19,
   "id": "7341e916",
   "metadata": {},
   "outputs": [
    {
     "data": {
      "text/plain": [
       "21"
      ]
     },
     "execution_count": 19,
     "metadata": {},
     "output_type": "execute_result"
    }
   ],
   "source": [
    "df['Occupation'].nunique()"
   ]
  },
  {
   "cell_type": "code",
   "execution_count": 20,
   "id": "7cf09574",
   "metadata": {},
   "outputs": [
    {
     "data": {
      "text/plain": [
       "array(['B', 'C', 'A'], dtype=object)"
      ]
     },
     "execution_count": 20,
     "metadata": {},
     "output_type": "execute_result"
    }
   ],
   "source": [
    "df['City_Category'].unique()"
   ]
  },
  {
   "cell_type": "code",
   "execution_count": 21,
   "id": "d0c32b61",
   "metadata": {},
   "outputs": [
    {
     "data": {
      "text/plain": [
       "array(['2', '0', '4+', '1', '3'], dtype=object)"
      ]
     },
     "execution_count": 21,
     "metadata": {},
     "output_type": "execute_result"
    }
   ],
   "source": [
    "df['Stay_In_Current_City_Years'].unique()"
   ]
  },
  {
   "cell_type": "code",
   "execution_count": 22,
   "id": "e6123753",
   "metadata": {},
   "outputs": [
    {
     "data": {
      "text/plain": [
       "5"
      ]
     },
     "execution_count": 22,
     "metadata": {},
     "output_type": "execute_result"
    }
   ],
   "source": [
    "df['Stay_In_Current_City_Years'].nunique()"
   ]
  },
  {
   "cell_type": "code",
   "execution_count": 23,
   "id": "5dd6215a",
   "metadata": {},
   "outputs": [
    {
     "data": {
      "text/plain": [
       "array([1, 0], dtype=int64)"
      ]
     },
     "execution_count": 23,
     "metadata": {},
     "output_type": "execute_result"
    }
   ],
   "source": [
    "df['Marital_Status'].unique()"
   ]
  },
  {
   "cell_type": "code",
   "execution_count": 24,
   "id": "a3b7e9b0",
   "metadata": {},
   "outputs": [
    {
     "data": {
      "text/plain": [
       "array([ 1,  3,  5,  4,  2, 10, 15, 18,  8, 13,  6, 11, 12,  7, 16, 14, 17,\n",
       "        9], dtype=int64)"
      ]
     },
     "execution_count": 24,
     "metadata": {},
     "output_type": "execute_result"
    }
   ],
   "source": [
    "df['Product_Category_1'].unique()"
   ]
  },
  {
   "cell_type": "code",
   "execution_count": 25,
   "id": "e67092e8",
   "metadata": {},
   "outputs": [
    {
     "data": {
      "text/plain": [
       "18"
      ]
     },
     "execution_count": 25,
     "metadata": {},
     "output_type": "execute_result"
    }
   ],
   "source": [
    "df['Product_Category_1'].nunique()"
   ]
  },
  {
   "cell_type": "code",
   "execution_count": 26,
   "id": "66e2948b",
   "metadata": {},
   "outputs": [
    {
     "name": "stdout",
     "output_type": "stream",
     "text": [
      "5891  \t:  User_ID\n",
      "3491  \t:  Product_ID\n",
      "2  \t:  Gender\n",
      "7  \t:  Age\n",
      "21  \t:  Occupation\n",
      "3  \t:  City_Category\n",
      "5  \t:  Stay_In_Current_City_Years\n",
      "2  \t:  Marital_Status\n",
      "18  \t:  Product_Category_1\n"
     ]
    }
   ],
   "source": [
    "for column in df.columns:\n",
    "    print(df[column].nunique(), \" \\t: \",column)"
   ]
  },
  {
   "cell_type": "markdown",
   "id": "602e209a",
   "metadata": {},
   "source": [
    "## Analyzing Gender"
   ]
  },
  {
   "cell_type": "code",
   "execution_count": 27,
   "id": "86e89889",
   "metadata": {},
   "outputs": [
    {
     "data": {
      "text/plain": [
       "0         M\n",
       "1         M\n",
       "2         F\n",
       "3         F\n",
       "4         F\n",
       "         ..\n",
       "233594    F\n",
       "233595    F\n",
       "233596    F\n",
       "233597    F\n",
       "233598    F\n",
       "Name: Gender, Length: 233599, dtype: object"
      ]
     },
     "execution_count": 27,
     "metadata": {},
     "output_type": "execute_result"
    }
   ],
   "source": [
    "df['Gender']"
   ]
  },
  {
   "cell_type": "code",
   "execution_count": 28,
   "id": "0bb0145a",
   "metadata": {},
   "outputs": [
    {
     "data": {
      "text/plain": [
       "0          True\n",
       "1          True\n",
       "2         False\n",
       "3         False\n",
       "4         False\n",
       "          ...  \n",
       "233594    False\n",
       "233595    False\n",
       "233596    False\n",
       "233597    False\n",
       "233598    False\n",
       "Name: Gender, Length: 233599, dtype: bool"
      ]
     },
     "execution_count": 28,
     "metadata": {},
     "output_type": "execute_result"
    }
   ],
   "source": [
    "df['Gender']=='M'"
   ]
  },
  {
   "cell_type": "code",
   "execution_count": 29,
   "id": "1542a495",
   "metadata": {},
   "outputs": [
    {
     "data": {
      "text/html": [
       "<div>\n",
       "<style scoped>\n",
       "    .dataframe tbody tr th:only-of-type {\n",
       "        vertical-align: middle;\n",
       "    }\n",
       "\n",
       "    .dataframe tbody tr th {\n",
       "        vertical-align: top;\n",
       "    }\n",
       "\n",
       "    .dataframe thead th {\n",
       "        text-align: right;\n",
       "    }\n",
       "</style>\n",
       "<table border=\"1\" class=\"dataframe\">\n",
       "  <thead>\n",
       "    <tr style=\"text-align: right;\">\n",
       "      <th></th>\n",
       "      <th>User_ID</th>\n",
       "      <th>Product_ID</th>\n",
       "      <th>Gender</th>\n",
       "      <th>Age</th>\n",
       "      <th>Occupation</th>\n",
       "      <th>City_Category</th>\n",
       "      <th>Stay_In_Current_City_Years</th>\n",
       "      <th>Marital_Status</th>\n",
       "      <th>Product_Category_1</th>\n",
       "    </tr>\n",
       "  </thead>\n",
       "  <tbody>\n",
       "    <tr>\n",
       "      <th>0</th>\n",
       "      <td>1000004</td>\n",
       "      <td>P00128942</td>\n",
       "      <td>M</td>\n",
       "      <td>46-50</td>\n",
       "      <td>7</td>\n",
       "      <td>B</td>\n",
       "      <td>2</td>\n",
       "      <td>1</td>\n",
       "      <td>1</td>\n",
       "    </tr>\n",
       "    <tr>\n",
       "      <th>1</th>\n",
       "      <td>1000009</td>\n",
       "      <td>P00113442</td>\n",
       "      <td>M</td>\n",
       "      <td>26-35</td>\n",
       "      <td>17</td>\n",
       "      <td>C</td>\n",
       "      <td>0</td>\n",
       "      <td>0</td>\n",
       "      <td>3</td>\n",
       "    </tr>\n",
       "    <tr>\n",
       "      <th>5</th>\n",
       "      <td>1000013</td>\n",
       "      <td>P00350442</td>\n",
       "      <td>M</td>\n",
       "      <td>46-50</td>\n",
       "      <td>1</td>\n",
       "      <td>C</td>\n",
       "      <td>3</td>\n",
       "      <td>1</td>\n",
       "      <td>2</td>\n",
       "    </tr>\n",
       "    <tr>\n",
       "      <th>6</th>\n",
       "      <td>1000013</td>\n",
       "      <td>P00155442</td>\n",
       "      <td>M</td>\n",
       "      <td>46-50</td>\n",
       "      <td>1</td>\n",
       "      <td>C</td>\n",
       "      <td>3</td>\n",
       "      <td>1</td>\n",
       "      <td>1</td>\n",
       "    </tr>\n",
       "    <tr>\n",
       "      <th>7</th>\n",
       "      <td>1000013</td>\n",
       "      <td>P0094542</td>\n",
       "      <td>M</td>\n",
       "      <td>46-50</td>\n",
       "      <td>1</td>\n",
       "      <td>C</td>\n",
       "      <td>3</td>\n",
       "      <td>1</td>\n",
       "      <td>2</td>\n",
       "    </tr>\n",
       "    <tr>\n",
       "      <th>...</th>\n",
       "      <td>...</td>\n",
       "      <td>...</td>\n",
       "      <td>...</td>\n",
       "      <td>...</td>\n",
       "      <td>...</td>\n",
       "      <td>...</td>\n",
       "      <td>...</td>\n",
       "      <td>...</td>\n",
       "      <td>...</td>\n",
       "    </tr>\n",
       "    <tr>\n",
       "      <th>233587</th>\n",
       "      <td>1006028</td>\n",
       "      <td>P00162442</td>\n",
       "      <td>M</td>\n",
       "      <td>18-25</td>\n",
       "      <td>4</td>\n",
       "      <td>A</td>\n",
       "      <td>4+</td>\n",
       "      <td>0</td>\n",
       "      <td>1</td>\n",
       "    </tr>\n",
       "    <tr>\n",
       "      <th>233588</th>\n",
       "      <td>1006030</td>\n",
       "      <td>P00129842</td>\n",
       "      <td>M</td>\n",
       "      <td>26-35</td>\n",
       "      <td>17</td>\n",
       "      <td>C</td>\n",
       "      <td>1</td>\n",
       "      <td>1</td>\n",
       "      <td>6</td>\n",
       "    </tr>\n",
       "    <tr>\n",
       "      <th>233589</th>\n",
       "      <td>1006030</td>\n",
       "      <td>P00241442</td>\n",
       "      <td>M</td>\n",
       "      <td>26-35</td>\n",
       "      <td>17</td>\n",
       "      <td>C</td>\n",
       "      <td>1</td>\n",
       "      <td>1</td>\n",
       "      <td>2</td>\n",
       "    </tr>\n",
       "    <tr>\n",
       "      <th>233590</th>\n",
       "      <td>1006032</td>\n",
       "      <td>P00252442</td>\n",
       "      <td>M</td>\n",
       "      <td>46-50</td>\n",
       "      <td>7</td>\n",
       "      <td>A</td>\n",
       "      <td>3</td>\n",
       "      <td>0</td>\n",
       "      <td>8</td>\n",
       "    </tr>\n",
       "    <tr>\n",
       "      <th>233591</th>\n",
       "      <td>1006033</td>\n",
       "      <td>P00127642</td>\n",
       "      <td>M</td>\n",
       "      <td>51-55</td>\n",
       "      <td>13</td>\n",
       "      <td>B</td>\n",
       "      <td>1</td>\n",
       "      <td>1</td>\n",
       "      <td>1</td>\n",
       "    </tr>\n",
       "  </tbody>\n",
       "</table>\n",
       "<p>175772 rows × 9 columns</p>\n",
       "</div>"
      ],
      "text/plain": [
       "        User_ID Product_ID Gender    Age  Occupation City_Category  \\\n",
       "0       1000004  P00128942      M  46-50           7             B   \n",
       "1       1000009  P00113442      M  26-35          17             C   \n",
       "5       1000013  P00350442      M  46-50           1             C   \n",
       "6       1000013  P00155442      M  46-50           1             C   \n",
       "7       1000013   P0094542      M  46-50           1             C   \n",
       "...         ...        ...    ...    ...         ...           ...   \n",
       "233587  1006028  P00162442      M  18-25           4             A   \n",
       "233588  1006030  P00129842      M  26-35          17             C   \n",
       "233589  1006030  P00241442      M  26-35          17             C   \n",
       "233590  1006032  P00252442      M  46-50           7             A   \n",
       "233591  1006033  P00127642      M  51-55          13             B   \n",
       "\n",
       "       Stay_In_Current_City_Years  Marital_Status  Product_Category_1  \n",
       "0                               2               1                   1  \n",
       "1                               0               0                   3  \n",
       "5                               3               1                   2  \n",
       "6                               3               1                   1  \n",
       "7                               3               1                   2  \n",
       "...                           ...             ...                 ...  \n",
       "233587                         4+               0                   1  \n",
       "233588                          1               1                   6  \n",
       "233589                          1               1                   2  \n",
       "233590                          3               0                   8  \n",
       "233591                          1               1                   1  \n",
       "\n",
       "[175772 rows x 9 columns]"
      ]
     },
     "execution_count": 29,
     "metadata": {},
     "output_type": "execute_result"
    }
   ],
   "source": [
    "df[df['Gender']=='M']"
   ]
  },
  {
   "cell_type": "code",
   "execution_count": 30,
   "id": "63413fab",
   "metadata": {},
   "outputs": [
    {
     "data": {
      "text/plain": [
       "(175772, 57827)"
      ]
     },
     "execution_count": 30,
     "metadata": {},
     "output_type": "execute_result"
    }
   ],
   "source": [
    "len(df[df['Gender']=='M']) ,len(df[df['Gender']=='F'])"
   ]
  },
  {
   "cell_type": "code",
   "execution_count": 31,
   "id": "1b9145e8",
   "metadata": {},
   "outputs": [],
   "source": [
    "data=pd.DataFrame({'Ratio' : [len(df[df['Gender']=='M']) ,len(df[df['Gender']=='F'])]}, index = ['Male', 'Female'])"
   ]
  },
  {
   "cell_type": "code",
   "execution_count": 32,
   "id": "1aa8ee8c",
   "metadata": {},
   "outputs": [
    {
     "data": {
      "text/html": [
       "<div>\n",
       "<style scoped>\n",
       "    .dataframe tbody tr th:only-of-type {\n",
       "        vertical-align: middle;\n",
       "    }\n",
       "\n",
       "    .dataframe tbody tr th {\n",
       "        vertical-align: top;\n",
       "    }\n",
       "\n",
       "    .dataframe thead th {\n",
       "        text-align: right;\n",
       "    }\n",
       "</style>\n",
       "<table border=\"1\" class=\"dataframe\">\n",
       "  <thead>\n",
       "    <tr style=\"text-align: right;\">\n",
       "      <th></th>\n",
       "      <th>Ratio</th>\n",
       "    </tr>\n",
       "  </thead>\n",
       "  <tbody>\n",
       "    <tr>\n",
       "      <th>Male</th>\n",
       "      <td>175772</td>\n",
       "    </tr>\n",
       "    <tr>\n",
       "      <th>Female</th>\n",
       "      <td>57827</td>\n",
       "    </tr>\n",
       "  </tbody>\n",
       "</table>\n",
       "</div>"
      ],
      "text/plain": [
       "         Ratio\n",
       "Male    175772\n",
       "Female   57827"
      ]
     },
     "execution_count": 32,
     "metadata": {},
     "output_type": "execute_result"
    }
   ],
   "source": [
    "data"
   ]
  },
  {
   "cell_type": "code",
   "execution_count": 33,
   "id": "3e3e6a6d",
   "metadata": {},
   "outputs": [
    {
     "data": {
      "text/plain": [
       "<AxesSubplot:ylabel='Ratio'>"
      ]
     },
     "execution_count": 33,
     "metadata": {},
     "output_type": "execute_result"
    },
    {
     "data": {
      "image/png": "[encoded data removed]",
      "text/plain": [
       "<Figure size 432x432 with 1 Axes>"
      ]
     },
     "metadata": {},
     "output_type": "display_data"
    }
   ],
   "source": [
    "data.plot.pie(y='Ratio' ,figsize =(6,6), autopct = \"%.1f\")"
   ]
  },
  {
   "cell_type": "code",
   "execution_count": 34,
   "id": "6f385213",
   "metadata": {},
   "outputs": [
    {
     "data": {
      "text/plain": [
       "Gender\n",
       "F     57827\n",
       "M    175772\n",
       "dtype: int64"
      ]
     },
     "execution_count": 34,
     "metadata": {},
     "output_type": "execute_result"
    }
   ],
   "source": [
    "df.groupby('Gender').size()"
   ]
  },
  {
   "cell_type": "code",
   "execution_count": 35,
   "id": "1ecb2e26",
   "metadata": {},
   "outputs": [
    {
     "data": {
      "text/plain": [
       "<AxesSubplot:title={'center':'Gender Ratio'}, ylabel='None'>"
      ]
     },
     "execution_count": 35,
     "metadata": {},
     "output_type": "execute_result"
    },
    {
     "data": {
      "image/png": "[encoded data removed]",
      "text/plain": [
       "<Figure size 432x432 with 1 Axes>"
      ]
     },
     "metadata": {},
     "output_type": "display_data"
    }
   ],
   "source": [
    "df.groupby('Gender').size().plot(kind='pie',autopct=\"%.1f\", title='Gender Ratio' ,figsize= (6,6))"
   ]
  },
  {
   "cell_type": "code",
   "execution_count": 36,
   "id": "49d1e681",
   "metadata": {},
   "outputs": [
    {
     "data": {
      "text/plain": [
       "<AxesSubplot:xlabel='Gender'>"
      ]
     },
     "execution_count": 36,
     "metadata": {},
     "output_type": "execute_result"
    },
    {
     "data": {
      "image/png": "[encoded data removed]",
      "text/plain": [
       "<Figure size 432x432 with 1 Axes>"
      ]
     },
     "metadata": {
      "needs_background": "light"
     },
     "output_type": "display_data"
    }
   ],
   "source": [
    "df.groupby('Gender').size().plot(kind='bar',figsize=(6,6))"
   ]
  },
  {
   "cell_type": "code",
   "execution_count": 37,
   "id": "b850c3b4",
   "metadata": {},
   "outputs": [
    {
     "data": {
      "text/plain": [
       "Gender\n",
       "F     57827\n",
       "M    175772\n",
       "dtype: int64"
      ]
     },
     "execution_count": 37,
     "metadata": {},
     "output_type": "execute_result"
    }
   ],
   "source": [
    "df.groupby('Gender').size()"
   ]
  },
  {
   "cell_type": "markdown",
   "id": "07d6dbda",
   "metadata": {},
   "source": [
    "## Analyzing age and marital status"
   ]
  },
  {
   "cell_type": "code",
   "execution_count": 38,
   "id": "1abade47",
   "metadata": {},
   "outputs": [
    {
     "data": {
      "text/plain": [
       "Age\n",
       "0-17      6232\n",
       "18-25    42293\n",
       "26-35    93428\n",
       "36-45    46711\n",
       "46-50    19577\n",
       "51-55    16283\n",
       "55+       9075\n",
       "dtype: int64"
      ]
     },
     "execution_count": 38,
     "metadata": {},
     "output_type": "execute_result"
    }
   ],
   "source": [
    "df.groupby('Age').size()"
   ]
  },
  {
   "cell_type": "code",
   "execution_count": 39,
   "id": "4e09387a",
   "metadata": {},
   "outputs": [
    {
     "data": {
      "text/plain": [
       "<AxesSubplot:title={'center':'Purchase Distribution by age'}, xlabel='Age'>"
      ]
     },
     "execution_count": 39,
     "metadata": {},
     "output_type": "execute_result"
    },
    {
     "data": {
      "image/png": "[encoded data removed]",
      "text/plain": [
       "<Figure size 864x432 with 1 Axes>"
      ]
     },
     "metadata": {
      "needs_background": "light"
     },
     "output_type": "display_data"
    }
   ],
   "source": [
    "df.groupby('Age').size().plot(kind='bar',figsize=(12,6),title='Purchase Distribution by age')"
   ]
  },
  {
   "cell_type": "code",
   "execution_count": 40,
   "id": "6b7caecc",
   "metadata": {},
   "outputs": [
    {
     "name": "stdout",
     "output_type": "stream",
     "text": [
      "46-50\n",
      "26-35\n",
      "36-45\n",
      "18-25\n",
      "51-55\n",
      "55+\n",
      "0-17\n"
     ]
    }
   ],
   "source": [
    "for i in df['Age'].unique():\n",
    "    print(i)"
   ]
  },
  {
   "cell_type": "code",
   "execution_count": 41,
   "id": "d08acab7",
   "metadata": {},
   "outputs": [
    {
     "data": {
      "text/html": [
       "<div>\n",
       "<style scoped>\n",
       "    .dataframe tbody tr th:only-of-type {\n",
       "        vertical-align: middle;\n",
       "    }\n",
       "\n",
       "    .dataframe tbody tr th {\n",
       "        vertical-align: top;\n",
       "    }\n",
       "\n",
       "    .dataframe thead th {\n",
       "        text-align: right;\n",
       "    }\n",
       "</style>\n",
       "<table border=\"1\" class=\"dataframe\">\n",
       "  <thead>\n",
       "    <tr style=\"text-align: right;\">\n",
       "      <th></th>\n",
       "      <th>User_ID</th>\n",
       "      <th>Product_ID</th>\n",
       "      <th>Gender</th>\n",
       "      <th>Age</th>\n",
       "      <th>Occupation</th>\n",
       "      <th>City_Category</th>\n",
       "      <th>Stay_In_Current_City_Years</th>\n",
       "      <th>Marital_Status</th>\n",
       "      <th>Product_Category_1</th>\n",
       "    </tr>\n",
       "  </thead>\n",
       "  <tbody>\n",
       "    <tr>\n",
       "      <th>214</th>\n",
       "      <td>1000349</td>\n",
       "      <td>P00347642</td>\n",
       "      <td>M</td>\n",
       "      <td>0-17</td>\n",
       "      <td>10</td>\n",
       "      <td>C</td>\n",
       "      <td>0</td>\n",
       "      <td>0</td>\n",
       "      <td>1</td>\n",
       "    </tr>\n",
       "    <tr>\n",
       "      <th>215</th>\n",
       "      <td>1000349</td>\n",
       "      <td>P00015542</td>\n",
       "      <td>M</td>\n",
       "      <td>0-17</td>\n",
       "      <td>10</td>\n",
       "      <td>C</td>\n",
       "      <td>0</td>\n",
       "      <td>0</td>\n",
       "      <td>1</td>\n",
       "    </tr>\n",
       "    <tr>\n",
       "      <th>353</th>\n",
       "      <td>1000634</td>\n",
       "      <td>P00000142</td>\n",
       "      <td>F</td>\n",
       "      <td>0-17</td>\n",
       "      <td>10</td>\n",
       "      <td>C</td>\n",
       "      <td>4+</td>\n",
       "      <td>0</td>\n",
       "      <td>3</td>\n",
       "    </tr>\n",
       "    <tr>\n",
       "      <th>432</th>\n",
       "      <td>1000753</td>\n",
       "      <td>P00355142</td>\n",
       "      <td>M</td>\n",
       "      <td>0-17</td>\n",
       "      <td>10</td>\n",
       "      <td>C</td>\n",
       "      <td>1</td>\n",
       "      <td>0</td>\n",
       "      <td>1</td>\n",
       "    </tr>\n",
       "    <tr>\n",
       "      <th>433</th>\n",
       "      <td>1000753</td>\n",
       "      <td>P00337842</td>\n",
       "      <td>M</td>\n",
       "      <td>0-17</td>\n",
       "      <td>10</td>\n",
       "      <td>C</td>\n",
       "      <td>1</td>\n",
       "      <td>0</td>\n",
       "      <td>5</td>\n",
       "    </tr>\n",
       "    <tr>\n",
       "      <th>...</th>\n",
       "      <td>...</td>\n",
       "      <td>...</td>\n",
       "      <td>...</td>\n",
       "      <td>...</td>\n",
       "      <td>...</td>\n",
       "      <td>...</td>\n",
       "      <td>...</td>\n",
       "      <td>...</td>\n",
       "      <td>...</td>\n",
       "    </tr>\n",
       "    <tr>\n",
       "      <th>233348</th>\n",
       "      <td>1005642</td>\n",
       "      <td>P00001342</td>\n",
       "      <td>M</td>\n",
       "      <td>0-17</td>\n",
       "      <td>10</td>\n",
       "      <td>C</td>\n",
       "      <td>3</td>\n",
       "      <td>0</td>\n",
       "      <td>3</td>\n",
       "    </tr>\n",
       "    <tr>\n",
       "      <th>233349</th>\n",
       "      <td>1005642</td>\n",
       "      <td>P00058342</td>\n",
       "      <td>M</td>\n",
       "      <td>0-17</td>\n",
       "      <td>10</td>\n",
       "      <td>C</td>\n",
       "      <td>3</td>\n",
       "      <td>0</td>\n",
       "      <td>3</td>\n",
       "    </tr>\n",
       "    <tr>\n",
       "      <th>233368</th>\n",
       "      <td>1005662</td>\n",
       "      <td>P00165442</td>\n",
       "      <td>M</td>\n",
       "      <td>0-17</td>\n",
       "      <td>10</td>\n",
       "      <td>C</td>\n",
       "      <td>2</td>\n",
       "      <td>0</td>\n",
       "      <td>1</td>\n",
       "    </tr>\n",
       "    <tr>\n",
       "      <th>233416</th>\n",
       "      <td>1005757</td>\n",
       "      <td>P00117242</td>\n",
       "      <td>M</td>\n",
       "      <td>0-17</td>\n",
       "      <td>10</td>\n",
       "      <td>C</td>\n",
       "      <td>2</td>\n",
       "      <td>0</td>\n",
       "      <td>8</td>\n",
       "    </tr>\n",
       "    <tr>\n",
       "      <th>233430</th>\n",
       "      <td>1005777</td>\n",
       "      <td>P00122542</td>\n",
       "      <td>M</td>\n",
       "      <td>0-17</td>\n",
       "      <td>0</td>\n",
       "      <td>C</td>\n",
       "      <td>4+</td>\n",
       "      <td>0</td>\n",
       "      <td>11</td>\n",
       "    </tr>\n",
       "  </tbody>\n",
       "</table>\n",
       "<p>6232 rows × 9 columns</p>\n",
       "</div>"
      ],
      "text/plain": [
       "        User_ID Product_ID Gender   Age  Occupation City_Category  \\\n",
       "214     1000349  P00347642      M  0-17          10             C   \n",
       "215     1000349  P00015542      M  0-17          10             C   \n",
       "353     1000634  P00000142      F  0-17          10             C   \n",
       "432     1000753  P00355142      M  0-17          10             C   \n",
       "433     1000753  P00337842      M  0-17          10             C   \n",
       "...         ...        ...    ...   ...         ...           ...   \n",
       "233348  1005642  P00001342      M  0-17          10             C   \n",
       "233349  1005642  P00058342      M  0-17          10             C   \n",
       "233368  1005662  P00165442      M  0-17          10             C   \n",
       "233416  1005757  P00117242      M  0-17          10             C   \n",
       "233430  1005777  P00122542      M  0-17           0             C   \n",
       "\n",
       "       Stay_In_Current_City_Years  Marital_Status  Product_Category_1  \n",
       "214                             0               0                   1  \n",
       "215                             0               0                   1  \n",
       "353                            4+               0                   3  \n",
       "432                             1               0                   1  \n",
       "433                             1               0                   5  \n",
       "...                           ...             ...                 ...  \n",
       "233348                          3               0                   3  \n",
       "233349                          3               0                   3  \n",
       "233368                          2               0                   1  \n",
       "233416                          2               0                   8  \n",
       "233430                         4+               0                  11  \n",
       "\n",
       "[6232 rows x 9 columns]"
      ]
     },
     "execution_count": 41,
     "metadata": {},
     "output_type": "execute_result"
    }
   ],
   "source": [
    "df[df['Age']=='0-17']"
   ]
  },
  {
   "cell_type": "code",
   "execution_count": 42,
   "id": "b2d5bd01",
   "metadata": {},
   "outputs": [
    {
     "data": {
      "text/plain": [
       "6232"
      ]
     },
     "execution_count": 42,
     "metadata": {},
     "output_type": "execute_result"
    }
   ],
   "source": [
    "len(df[df['Age']=='0-17'])"
   ]
  },
  {
   "cell_type": "code",
   "execution_count": 43,
   "id": "e1d93ae3",
   "metadata": {},
   "outputs": [
    {
     "data": {
      "text/plain": [
       "42293"
      ]
     },
     "execution_count": 43,
     "metadata": {},
     "output_type": "execute_result"
    }
   ],
   "source": [
    "len(df[df['Age']=='18-25'])"
   ]
  },
  {
   "cell_type": "code",
   "execution_count": 44,
   "id": "9f6f72b0",
   "metadata": {},
   "outputs": [
    {
     "name": "stdout",
     "output_type": "stream",
     "text": [
      "46-50  :  19577\n",
      "26-35  :  93428\n",
      "36-45  :  46711\n",
      "18-25  :  42293\n",
      "51-55  :  16283\n",
      "55+  :  9075\n",
      "0-17  :  6232\n"
     ]
    }
   ],
   "source": [
    "for i in df['Age'].unique():\n",
    "    print(i, \" : \",len(df[df['Age']==i]))"
   ]
  },
  {
   "cell_type": "code",
   "execution_count": 45,
   "id": "243a347b",
   "metadata": {},
   "outputs": [
    {
     "data": {
      "text/plain": [
       "'0-17'"
      ]
     },
     "execution_count": 45,
     "metadata": {},
     "output_type": "execute_result"
    }
   ],
   "source": [
    "i"
   ]
  },
  {
   "cell_type": "code",
   "execution_count": 46,
   "id": "d7236555",
   "metadata": {},
   "outputs": [
    {
     "data": {
      "text/html": [
       "<div>\n",
       "<style scoped>\n",
       "    .dataframe tbody tr th:only-of-type {\n",
       "        vertical-align: middle;\n",
       "    }\n",
       "\n",
       "    .dataframe tbody tr th {\n",
       "        vertical-align: top;\n",
       "    }\n",
       "\n",
       "    .dataframe thead th {\n",
       "        text-align: right;\n",
       "    }\n",
       "</style>\n",
       "<table border=\"1\" class=\"dataframe\">\n",
       "  <thead>\n",
       "    <tr style=\"text-align: right;\">\n",
       "      <th></th>\n",
       "      <th>User_ID</th>\n",
       "      <th>Product_ID</th>\n",
       "      <th>Gender</th>\n",
       "      <th>Age</th>\n",
       "      <th>Occupation</th>\n",
       "      <th>City_Category</th>\n",
       "      <th>Stay_In_Current_City_Years</th>\n",
       "      <th>Marital_Status</th>\n",
       "      <th>Product_Category_1</th>\n",
       "    </tr>\n",
       "  </thead>\n",
       "  <tbody>\n",
       "    <tr>\n",
       "      <th>214</th>\n",
       "      <td>1000349</td>\n",
       "      <td>P00347642</td>\n",
       "      <td>M</td>\n",
       "      <td>0-17</td>\n",
       "      <td>10</td>\n",
       "      <td>C</td>\n",
       "      <td>0</td>\n",
       "      <td>0</td>\n",
       "      <td>1</td>\n",
       "    </tr>\n",
       "    <tr>\n",
       "      <th>215</th>\n",
       "      <td>1000349</td>\n",
       "      <td>P00015542</td>\n",
       "      <td>M</td>\n",
       "      <td>0-17</td>\n",
       "      <td>10</td>\n",
       "      <td>C</td>\n",
       "      <td>0</td>\n",
       "      <td>0</td>\n",
       "      <td>1</td>\n",
       "    </tr>\n",
       "    <tr>\n",
       "      <th>353</th>\n",
       "      <td>1000634</td>\n",
       "      <td>P00000142</td>\n",
       "      <td>F</td>\n",
       "      <td>0-17</td>\n",
       "      <td>10</td>\n",
       "      <td>C</td>\n",
       "      <td>4+</td>\n",
       "      <td>0</td>\n",
       "      <td>3</td>\n",
       "    </tr>\n",
       "    <tr>\n",
       "      <th>432</th>\n",
       "      <td>1000753</td>\n",
       "      <td>P00355142</td>\n",
       "      <td>M</td>\n",
       "      <td>0-17</td>\n",
       "      <td>10</td>\n",
       "      <td>C</td>\n",
       "      <td>1</td>\n",
       "      <td>0</td>\n",
       "      <td>1</td>\n",
       "    </tr>\n",
       "    <tr>\n",
       "      <th>433</th>\n",
       "      <td>1000753</td>\n",
       "      <td>P00337842</td>\n",
       "      <td>M</td>\n",
       "      <td>0-17</td>\n",
       "      <td>10</td>\n",
       "      <td>C</td>\n",
       "      <td>1</td>\n",
       "      <td>0</td>\n",
       "      <td>5</td>\n",
       "    </tr>\n",
       "    <tr>\n",
       "      <th>...</th>\n",
       "      <td>...</td>\n",
       "      <td>...</td>\n",
       "      <td>...</td>\n",
       "      <td>...</td>\n",
       "      <td>...</td>\n",
       "      <td>...</td>\n",
       "      <td>...</td>\n",
       "      <td>...</td>\n",
       "      <td>...</td>\n",
       "    </tr>\n",
       "    <tr>\n",
       "      <th>233348</th>\n",
       "      <td>1005642</td>\n",
       "      <td>P00001342</td>\n",
       "      <td>M</td>\n",
       "      <td>0-17</td>\n",
       "      <td>10</td>\n",
       "      <td>C</td>\n",
       "      <td>3</td>\n",
       "      <td>0</td>\n",
       "      <td>3</td>\n",
       "    </tr>\n",
       "    <tr>\n",
       "      <th>233349</th>\n",
       "      <td>1005642</td>\n",
       "      <td>P00058342</td>\n",
       "      <td>M</td>\n",
       "      <td>0-17</td>\n",
       "      <td>10</td>\n",
       "      <td>C</td>\n",
       "      <td>3</td>\n",
       "      <td>0</td>\n",
       "      <td>3</td>\n",
       "    </tr>\n",
       "    <tr>\n",
       "      <th>233368</th>\n",
       "      <td>1005662</td>\n",
       "      <td>P00165442</td>\n",
       "      <td>M</td>\n",
       "      <td>0-17</td>\n",
       "      <td>10</td>\n",
       "      <td>C</td>\n",
       "      <td>2</td>\n",
       "      <td>0</td>\n",
       "      <td>1</td>\n",
       "    </tr>\n",
       "    <tr>\n",
       "      <th>233416</th>\n",
       "      <td>1005757</td>\n",
       "      <td>P00117242</td>\n",
       "      <td>M</td>\n",
       "      <td>0-17</td>\n",
       "      <td>10</td>\n",
       "      <td>C</td>\n",
       "      <td>2</td>\n",
       "      <td>0</td>\n",
       "      <td>8</td>\n",
       "    </tr>\n",
       "    <tr>\n",
       "      <th>233430</th>\n",
       "      <td>1005777</td>\n",
       "      <td>P00122542</td>\n",
       "      <td>M</td>\n",
       "      <td>0-17</td>\n",
       "      <td>0</td>\n",
       "      <td>C</td>\n",
       "      <td>4+</td>\n",
       "      <td>0</td>\n",
       "      <td>11</td>\n",
       "    </tr>\n",
       "  </tbody>\n",
       "</table>\n",
       "<p>6232 rows × 9 columns</p>\n",
       "</div>"
      ],
      "text/plain": [
       "        User_ID Product_ID Gender   Age  Occupation City_Category  \\\n",
       "214     1000349  P00347642      M  0-17          10             C   \n",
       "215     1000349  P00015542      M  0-17          10             C   \n",
       "353     1000634  P00000142      F  0-17          10             C   \n",
       "432     1000753  P00355142      M  0-17          10             C   \n",
       "433     1000753  P00337842      M  0-17          10             C   \n",
       "...         ...        ...    ...   ...         ...           ...   \n",
       "233348  1005642  P00001342      M  0-17          10             C   \n",
       "233349  1005642  P00058342      M  0-17          10             C   \n",
       "233368  1005662  P00165442      M  0-17          10             C   \n",
       "233416  1005757  P00117242      M  0-17          10             C   \n",
       "233430  1005777  P00122542      M  0-17           0             C   \n",
       "\n",
       "       Stay_In_Current_City_Years  Marital_Status  Product_Category_1  \n",
       "214                             0               0                   1  \n",
       "215                             0               0                   1  \n",
       "353                            4+               0                   3  \n",
       "432                             1               0                   1  \n",
       "433                             1               0                   5  \n",
       "...                           ...             ...                 ...  \n",
       "233348                          3               0                   3  \n",
       "233349                          3               0                   3  \n",
       "233368                          2               0                   1  \n",
       "233416                          2               0                   8  \n",
       "233430                         4+               0                  11  \n",
       "\n",
       "[6232 rows x 9 columns]"
      ]
     },
     "execution_count": 46,
     "metadata": {},
     "output_type": "execute_result"
    }
   ],
   "source": [
    "df[df['Age']==i]"
   ]
  },
  {
   "cell_type": "code",
   "execution_count": 47,
   "id": "ec6b6099",
   "metadata": {},
   "outputs": [
    {
     "data": {
      "text/plain": [
       "214       P00347642\n",
       "215       P00015542\n",
       "353       P00000142\n",
       "432       P00355142\n",
       "433       P00337842\n",
       "            ...    \n",
       "233348    P00001342\n",
       "233349    P00058342\n",
       "233368    P00165442\n",
       "233416    P00117242\n",
       "233430    P00122542\n",
       "Name: Product_ID, Length: 6232, dtype: object"
      ]
     },
     "execution_count": 47,
     "metadata": {},
     "output_type": "execute_result"
    }
   ],
   "source": [
    "df[df['Age']==i]['Product_ID']"
   ]
  },
  {
   "cell_type": "code",
   "execution_count": 48,
   "id": "7a9c1f9f",
   "metadata": {},
   "outputs": [
    {
     "data": {
      "text/plain": [
       "array(['P00347642', 'P00015542', 'P00000142', ..., 'P00057042',\n",
       "       'P00346842', 'P00165042'], dtype=object)"
      ]
     },
     "execution_count": 48,
     "metadata": {},
     "output_type": "execute_result"
    }
   ],
   "source": [
    "df[df['Age']==i]['Product_ID'].unique()"
   ]
  },
  {
   "cell_type": "code",
   "execution_count": 49,
   "id": "ef62cfd7",
   "metadata": {},
   "outputs": [
    {
     "data": {
      "text/plain": [
       "1799"
      ]
     },
     "execution_count": 49,
     "metadata": {},
     "output_type": "execute_result"
    }
   ],
   "source": [
    "df[df['Age']==i]['Product_ID'].nunique()"
   ]
  },
  {
   "cell_type": "code",
   "execution_count": 50,
   "id": "4527fa55",
   "metadata": {},
   "outputs": [
    {
     "name": "stdout",
     "output_type": "stream",
     "text": [
      "46-50  :  2695\n",
      "26-35  :  3229\n",
      "36-45  :  3056\n",
      "18-25  :  2865\n",
      "51-55  :  2472\n",
      "55+  :  2110\n",
      "0-17  :  1799\n"
     ]
    }
   ],
   "source": [
    "\n",
    "\n",
    "for i in df['Age'].unique():\n",
    "    print(i,\" : \",df[df['Age']==i]['Product_ID'].nunique())"
   ]
  },
  {
   "cell_type": "code",
   "execution_count": 51,
   "id": "cbcf611a",
   "metadata": {},
   "outputs": [],
   "source": [
    "lst=[]\n",
    "for i in df['Age'].unique():\n",
    "    lst.append([i,df[df['Age'] == i]['Product_ID'].nunique()])"
   ]
  },
  {
   "cell_type": "code",
   "execution_count": 52,
   "id": "c0db23d8",
   "metadata": {},
   "outputs": [
    {
     "data": {
      "text/plain": [
       "[['46-50', 2695],\n",
       " ['26-35', 3229],\n",
       " ['36-45', 3056],\n",
       " ['18-25', 2865],\n",
       " ['51-55', 2472],\n",
       " ['55+', 2110],\n",
       " ['0-17', 1799]]"
      ]
     },
     "execution_count": 52,
     "metadata": {},
     "output_type": "execute_result"
    }
   ],
   "source": [
    "lst"
   ]
  },
  {
   "cell_type": "code",
   "execution_count": 53,
   "id": "13d8ed04",
   "metadata": {},
   "outputs": [],
   "source": [
    "data = pd.DataFrame(lst, columns= ['Age','Products'])"
   ]
  },
  {
   "cell_type": "code",
   "execution_count": 54,
   "id": "c9b6eda9",
   "metadata": {},
   "outputs": [
    {
     "data": {
      "text/html": [
       "<div>\n",
       "<style scoped>\n",
       "    .dataframe tbody tr th:only-of-type {\n",
       "        vertical-align: middle;\n",
       "    }\n",
       "\n",
       "    .dataframe tbody tr th {\n",
       "        vertical-align: top;\n",
       "    }\n",
       "\n",
       "    .dataframe thead th {\n",
       "        text-align: right;\n",
       "    }\n",
       "</style>\n",
       "<table border=\"1\" class=\"dataframe\">\n",
       "  <thead>\n",
       "    <tr style=\"text-align: right;\">\n",
       "      <th></th>\n",
       "      <th>Age</th>\n",
       "      <th>Products</th>\n",
       "    </tr>\n",
       "  </thead>\n",
       "  <tbody>\n",
       "    <tr>\n",
       "      <th>0</th>\n",
       "      <td>46-50</td>\n",
       "      <td>2695</td>\n",
       "    </tr>\n",
       "    <tr>\n",
       "      <th>1</th>\n",
       "      <td>26-35</td>\n",
       "      <td>3229</td>\n",
       "    </tr>\n",
       "    <tr>\n",
       "      <th>2</th>\n",
       "      <td>36-45</td>\n",
       "      <td>3056</td>\n",
       "    </tr>\n",
       "    <tr>\n",
       "      <th>3</th>\n",
       "      <td>18-25</td>\n",
       "      <td>2865</td>\n",
       "    </tr>\n",
       "    <tr>\n",
       "      <th>4</th>\n",
       "      <td>51-55</td>\n",
       "      <td>2472</td>\n",
       "    </tr>\n",
       "    <tr>\n",
       "      <th>5</th>\n",
       "      <td>55+</td>\n",
       "      <td>2110</td>\n",
       "    </tr>\n",
       "    <tr>\n",
       "      <th>6</th>\n",
       "      <td>0-17</td>\n",
       "      <td>1799</td>\n",
       "    </tr>\n",
       "  </tbody>\n",
       "</table>\n",
       "</div>"
      ],
      "text/plain": [
       "     Age  Products\n",
       "0  46-50      2695\n",
       "1  26-35      3229\n",
       "2  36-45      3056\n",
       "3  18-25      2865\n",
       "4  51-55      2472\n",
       "5    55+      2110\n",
       "6   0-17      1799"
      ]
     },
     "execution_count": 54,
     "metadata": {},
     "output_type": "execute_result"
    }
   ],
   "source": [
    "data"
   ]
  },
  {
   "cell_type": "code",
   "execution_count": 55,
   "id": "d2882acb",
   "metadata": {},
   "outputs": [
    {
     "data": {
      "text/plain": [
       "<AxesSubplot:xlabel='Age'>"
      ]
     },
     "execution_count": 55,
     "metadata": {},
     "output_type": "execute_result"
    },
    {
     "data": {
      "image/png": "[encoded data removed]",
      "text/plain": [
       "<Figure size 864x432 with 1 Axes>"
      ]
     },
     "metadata": {
      "needs_background": "light"
     },
     "output_type": "display_data"
    }
   ],
   "source": [
    "data.plot(kind='bar',x='Age',figsize=(12,6))"
   ]
  },
  {
   "cell_type": "code",
   "execution_count": 56,
   "id": "2568d30f",
   "metadata": {},
   "outputs": [
    {
     "data": {
      "text/plain": [
       "<AxesSubplot:title={'center':'Purchase Distribution by age'}, ylabel='None'>"
      ]
     },
     "execution_count": 56,
     "metadata": {},
     "output_type": "execute_result"
    },
    {
     "data": {
      "image/png": "[encoded data removed]",
      "text/plain": [
       "<Figure size 864x432 with 1 Axes>"
      ]
     },
     "metadata": {},
     "output_type": "display_data"
    }
   ],
   "source": [
    "df.groupby('Age').size().plot(kind='pie',figsize=(12,6),title='Purchase Distribution by age')"
   ]
  },
  {
   "cell_type": "code",
   "execution_count": 57,
   "id": "4aa0602b",
   "metadata": {},
   "outputs": [
    {
     "data": {
      "text/plain": [
       "Age\n",
       "0-17     1799\n",
       "18-25    2865\n",
       "26-35    3229\n",
       "36-45    3056\n",
       "46-50    2695\n",
       "51-55    2472\n",
       "55+      2110\n",
       "Name: Product_ID, dtype: int64"
      ]
     },
     "execution_count": 57,
     "metadata": {},
     "output_type": "execute_result"
    }
   ],
   "source": [
    "df.groupby('Age')['Product_ID'].nunique()"
   ]
  },
  {
   "cell_type": "code",
   "execution_count": 58,
   "id": "ccbf5fb4",
   "metadata": {},
   "outputs": [
    {
     "data": {
      "text/plain": [
       "<AxesSubplot:ylabel='Product_ID'>"
      ]
     },
     "execution_count": 58,
     "metadata": {},
     "output_type": "execute_result"
    },
    {
     "data": {
      "image/png": "[encoded data removed]",
      "text/plain": [
       "<Figure size 432x288 with 1 Axes>"
      ]
     },
     "metadata": {},
     "output_type": "display_data"
    }
   ],
   "source": [
    "df.groupby('Age')['Product_ID'].nunique().plot(kind='pie',autopct='%.1f')"
   ]
  },
  {
   "cell_type": "code",
   "execution_count": 59,
   "id": "3a2a7ba8",
   "metadata": {},
   "outputs": [
    {
     "data": {
      "text/plain": [
       "<AxesSubplot:ylabel='None'>"
      ]
     },
     "execution_count": 59,
     "metadata": {},
     "output_type": "execute_result"
    },
    {
     "data": {
      "image/png": "[encoded data removed]",
      "text/plain": [
       "<Figure size 432x288 with 1 Axes>"
      ]
     },
     "metadata": {},
     "output_type": "display_data"
    }
   ],
   "source": [
    "df.groupby('Marital_Status').size().plot(kind='pie',autopct= \"%.1f\")"
   ]
  },
  {
   "cell_type": "code",
   "execution_count": 60,
   "id": "527b7b89",
   "metadata": {},
   "outputs": [
    {
     "data": {
      "text/plain": [
       "<AxesSubplot:ylabel='None'>"
      ]
     },
     "execution_count": 60,
     "metadata": {},
     "output_type": "execute_result"
    },
    {
     "data": {
      "image/png": "[encoded data removed]",
      "text/plain": [
       "<Figure size 432x288 with 1 Axes>"
      ]
     },
     "metadata": {},
     "output_type": "display_data"
    }
   ],
   "source": [
    "df.groupby('Gender').size().plot(kind='pie',autopct= \"%.1f\")"
   ]
  },
  {
   "cell_type": "code",
   "execution_count": 61,
   "id": "2e004d40",
   "metadata": {},
   "outputs": [
    {
     "data": {
      "text/html": [
       "<div>\n",
       "<style scoped>\n",
       "    .dataframe tbody tr th:only-of-type {\n",
       "        vertical-align: middle;\n",
       "    }\n",
       "\n",
       "    .dataframe tbody tr th {\n",
       "        vertical-align: top;\n",
       "    }\n",
       "\n",
       "    .dataframe thead th {\n",
       "        text-align: right;\n",
       "    }\n",
       "</style>\n",
       "<table border=\"1\" class=\"dataframe\">\n",
       "  <thead>\n",
       "    <tr style=\"text-align: right;\">\n",
       "      <th></th>\n",
       "      <th>User_ID</th>\n",
       "      <th>Product_ID</th>\n",
       "      <th>Gender</th>\n",
       "      <th>Age</th>\n",
       "      <th>Occupation</th>\n",
       "      <th>City_Category</th>\n",
       "      <th>Stay_In_Current_City_Years</th>\n",
       "      <th>Marital_Status</th>\n",
       "      <th>Product_Category_1</th>\n",
       "    </tr>\n",
       "  </thead>\n",
       "  <tbody>\n",
       "    <tr>\n",
       "      <th>0</th>\n",
       "      <td>1000004</td>\n",
       "      <td>P00128942</td>\n",
       "      <td>M</td>\n",
       "      <td>46-50</td>\n",
       "      <td>7</td>\n",
       "      <td>B</td>\n",
       "      <td>2</td>\n",
       "      <td>1</td>\n",
       "      <td>1</td>\n",
       "    </tr>\n",
       "    <tr>\n",
       "      <th>1</th>\n",
       "      <td>1000009</td>\n",
       "      <td>P00113442</td>\n",
       "      <td>M</td>\n",
       "      <td>26-35</td>\n",
       "      <td>17</td>\n",
       "      <td>C</td>\n",
       "      <td>0</td>\n",
       "      <td>0</td>\n",
       "      <td>3</td>\n",
       "    </tr>\n",
       "    <tr>\n",
       "      <th>2</th>\n",
       "      <td>1000010</td>\n",
       "      <td>P00288442</td>\n",
       "      <td>F</td>\n",
       "      <td>36-45</td>\n",
       "      <td>1</td>\n",
       "      <td>B</td>\n",
       "      <td>4+</td>\n",
       "      <td>1</td>\n",
       "      <td>5</td>\n",
       "    </tr>\n",
       "    <tr>\n",
       "      <th>3</th>\n",
       "      <td>1000010</td>\n",
       "      <td>P00145342</td>\n",
       "      <td>F</td>\n",
       "      <td>36-45</td>\n",
       "      <td>1</td>\n",
       "      <td>B</td>\n",
       "      <td>4+</td>\n",
       "      <td>1</td>\n",
       "      <td>4</td>\n",
       "    </tr>\n",
       "    <tr>\n",
       "      <th>4</th>\n",
       "      <td>1000011</td>\n",
       "      <td>P00053842</td>\n",
       "      <td>F</td>\n",
       "      <td>26-35</td>\n",
       "      <td>1</td>\n",
       "      <td>C</td>\n",
       "      <td>1</td>\n",
       "      <td>0</td>\n",
       "      <td>4</td>\n",
       "    </tr>\n",
       "    <tr>\n",
       "      <th>...</th>\n",
       "      <td>...</td>\n",
       "      <td>...</td>\n",
       "      <td>...</td>\n",
       "      <td>...</td>\n",
       "      <td>...</td>\n",
       "      <td>...</td>\n",
       "      <td>...</td>\n",
       "      <td>...</td>\n",
       "      <td>...</td>\n",
       "    </tr>\n",
       "    <tr>\n",
       "      <th>233594</th>\n",
       "      <td>1006036</td>\n",
       "      <td>P00118942</td>\n",
       "      <td>F</td>\n",
       "      <td>26-35</td>\n",
       "      <td>15</td>\n",
       "      <td>B</td>\n",
       "      <td>4+</td>\n",
       "      <td>1</td>\n",
       "      <td>8</td>\n",
       "    </tr>\n",
       "    <tr>\n",
       "      <th>233595</th>\n",
       "      <td>1006036</td>\n",
       "      <td>P00254642</td>\n",
       "      <td>F</td>\n",
       "      <td>26-35</td>\n",
       "      <td>15</td>\n",
       "      <td>B</td>\n",
       "      <td>4+</td>\n",
       "      <td>1</td>\n",
       "      <td>5</td>\n",
       "    </tr>\n",
       "    <tr>\n",
       "      <th>233596</th>\n",
       "      <td>1006036</td>\n",
       "      <td>P00031842</td>\n",
       "      <td>F</td>\n",
       "      <td>26-35</td>\n",
       "      <td>15</td>\n",
       "      <td>B</td>\n",
       "      <td>4+</td>\n",
       "      <td>1</td>\n",
       "      <td>1</td>\n",
       "    </tr>\n",
       "    <tr>\n",
       "      <th>233597</th>\n",
       "      <td>1006037</td>\n",
       "      <td>P00124742</td>\n",
       "      <td>F</td>\n",
       "      <td>46-50</td>\n",
       "      <td>1</td>\n",
       "      <td>C</td>\n",
       "      <td>4+</td>\n",
       "      <td>0</td>\n",
       "      <td>10</td>\n",
       "    </tr>\n",
       "    <tr>\n",
       "      <th>233598</th>\n",
       "      <td>1006039</td>\n",
       "      <td>P00316642</td>\n",
       "      <td>F</td>\n",
       "      <td>46-50</td>\n",
       "      <td>0</td>\n",
       "      <td>B</td>\n",
       "      <td>4+</td>\n",
       "      <td>1</td>\n",
       "      <td>4</td>\n",
       "    </tr>\n",
       "  </tbody>\n",
       "</table>\n",
       "<p>233599 rows × 9 columns</p>\n",
       "</div>"
      ],
      "text/plain": [
       "        User_ID Product_ID Gender    Age  Occupation City_Category  \\\n",
       "0       1000004  P00128942      M  46-50           7             B   \n",
       "1       1000009  P00113442      M  26-35          17             C   \n",
       "2       1000010  P00288442      F  36-45           1             B   \n",
       "3       1000010  P00145342      F  36-45           1             B   \n",
       "4       1000011  P00053842      F  26-35           1             C   \n",
       "...         ...        ...    ...    ...         ...           ...   \n",
       "233594  1006036  P00118942      F  26-35          15             B   \n",
       "233595  1006036  P00254642      F  26-35          15             B   \n",
       "233596  1006036  P00031842      F  26-35          15             B   \n",
       "233597  1006037  P00124742      F  46-50           1             C   \n",
       "233598  1006039  P00316642      F  46-50           0             B   \n",
       "\n",
       "       Stay_In_Current_City_Years  Marital_Status  Product_Category_1  \n",
       "0                               2               1                   1  \n",
       "1                               0               0                   3  \n",
       "2                              4+               1                   5  \n",
       "3                              4+               1                   4  \n",
       "4                               1               0                   4  \n",
       "...                           ...             ...                 ...  \n",
       "233594                         4+               1                   8  \n",
       "233595                         4+               1                   5  \n",
       "233596                         4+               1                   1  \n",
       "233597                         4+               0                  10  \n",
       "233598                         4+               1                   4  \n",
       "\n",
       "[233599 rows x 9 columns]"
      ]
     },
     "execution_count": 61,
     "metadata": {},
     "output_type": "execute_result"
    }
   ],
   "source": [
    "df"
   ]
  },
  {
   "cell_type": "markdown",
   "id": "e95961c9",
   "metadata": {},
   "source": [
    "## Multi column analysis"
   ]
  },
  {
   "cell_type": "code",
   "execution_count": 63,
   "id": "7b9f56d3",
   "metadata": {},
   "outputs": [
    {
     "data": {
      "text/plain": [
       "<AxesSubplot:xlabel='Age', ylabel='count'>"
      ]
     },
     "execution_count": 63,
     "metadata": {},
     "output_type": "execute_result"
    },
    {
     "data": {
      "image/png": "[encoded data removed]",
      "text/plain": [
       "<Figure size 864x432 with 1 Axes>"
      ]
     },
     "metadata": {},
     "output_type": "display_data"
    }
   ],
   "source": [
    "sns.set(rc={'figure.figsize':(12,6)})\n",
    "sns.countplot(x='Age',hue='Gender',data=df)"
   ]
  },
  {
   "cell_type": "code",
   "execution_count": 64,
   "id": "5dd785fd",
   "metadata": {},
   "outputs": [
    {
     "data": {
      "text/plain": [
       "<AxesSubplot:xlabel='Gender', ylabel='count'>"
      ]
     },
     "execution_count": 64,
     "metadata": {},
     "output_type": "execute_result"
    },
    {
     "data": {
      "image/png": "[encoded data removed]",
      "text/plain": [
       "<Figure size 864x432 with 1 Axes>"
      ]
     },
     "metadata": {},
     "output_type": "display_data"
    }
   ],
   "source": [
    "sns.set(rc={'figure.figsize':(12,6)})\n",
    "sns.countplot(x='Gender',hue='Age',data=df)"
   ]
  },
  {
   "cell_type": "code",
   "execution_count": 65,
   "id": "864fe415",
   "metadata": {},
   "outputs": [
    {
     "data": {
      "text/plain": [
       "<AxesSubplot:xlabel='Marital_Status', ylabel='count'>"
      ]
     },
     "execution_count": 65,
     "metadata": {},
     "output_type": "execute_result"
    },
    {
     "data": {
      "image/png": "[encoded data removed]",
      "text/plain": [
       "<Figure size 864x432 with 1 Axes>"
      ]
     },
     "metadata": {},
     "output_type": "display_data"
    }
   ],
   "source": [
    "sns.set(rc={'figure.figsize':(12,6)})\n",
    "sns.countplot(x='Marital_Status',hue='Gender',data=df)"
   ]
  },
  {
   "cell_type": "code",
   "execution_count": 66,
   "id": "a169c0a3",
   "metadata": {},
   "outputs": [
    {
     "data": {
      "text/plain": [
       "<AxesSubplot:xlabel='Gender', ylabel='count'>"
      ]
     },
     "execution_count": 66,
     "metadata": {},
     "output_type": "execute_result"
    },
    {
     "data": {
      "image/png": "[encoded data removed]",
      "text/plain": [
       "<Figure size 864x432 with 1 Axes>"
      ]
     },
     "metadata": {},
     "output_type": "display_data"
    }
   ],
   "source": [
    "sns.set(rc={'figure.figsize':(12,6)})\n",
    "sns.countplot(x='Gender',hue='Marital_Status',data=df)"
   ]
  },
  {
   "cell_type": "code",
   "execution_count": 68,
   "id": "f67f8e22",
   "metadata": {},
   "outputs": [
    {
     "data": {
      "text/plain": [
       "<AxesSubplot:xlabel='City_Category', ylabel='count'>"
      ]
     },
     "execution_count": 68,
     "metadata": {},
     "output_type": "execute_result"
    },
    {
     "data": {
      "image/png": "[encoded data removed]",
      "text/plain": [
       "<Figure size 864x432 with 1 Axes>"
      ]
     },
     "metadata": {},
     "output_type": "display_data"
    }
   ],
   "source": [
    "sns.countplot(x=df['City_Category'])"
   ]
  },
  {
   "cell_type": "code",
   "execution_count": 69,
   "id": "b9e9cc50",
   "metadata": {},
   "outputs": [
    {
     "data": {
      "text/plain": [
       "<AxesSubplot:ylabel='None'>"
      ]
     },
     "execution_count": 69,
     "metadata": {},
     "output_type": "execute_result"
    },
    {
     "data": {
      "image/png": "[encoded data removed]",
      "text/plain": [
       "<Figure size 864x432 with 1 Axes>"
      ]
     },
     "metadata": {},
     "output_type": "display_data"
    }
   ],
   "source": [
    "df.groupby('City_Category').size().plot(kind='pie',autopct=\"%.1f\")"
   ]
  },
  {
   "cell_type": "code",
   "execution_count": 71,
   "id": "8e840fba",
   "metadata": {},
   "outputs": [
    {
     "data": {
      "text/plain": [
       "<AxesSubplot:xlabel='City_Category', ylabel='count'>"
      ]
     },
     "execution_count": 71,
     "metadata": {},
     "output_type": "execute_result"
    },
    {
     "data": {
      "image/png": "[encoded data removed]",
      "text/plain": [
       "<Figure size 864x432 with 1 Axes>"
      ]
     },
     "metadata": {},
     "output_type": "display_data"
    }
   ],
   "source": [
    "sns.set(rc={'figure.figsize':(12,6)})\n",
    "sns.countplot(x='City_Category',hue='Age',data=df)"
   ]
  },
  {
   "cell_type": "code",
   "execution_count": 72,
   "id": "5f6da403",
   "metadata": {},
   "outputs": [
    {
     "data": {
      "text/plain": [
       "<AxesSubplot:xlabel='Marital_Status', ylabel='count'>"
      ]
     },
     "execution_count": 72,
     "metadata": {},
     "output_type": "execute_result"
    },
    {
     "data": {
      "image/png": "[encoded data removed]",
      "text/plain": [
       "<Figure size 864x432 with 1 Axes>"
      ]
     },
     "metadata": {},
     "output_type": "display_data"
    }
   ],
   "source": [
    "sns.set(rc={'figure.figsize':(12,6)})\n",
    "sns.countplot(x='Marital_Status',hue='City_Category',data=df)"
   ]
  },
  {
   "cell_type": "code",
   "execution_count": 73,
   "id": "295600fe",
   "metadata": {},
   "outputs": [
    {
     "data": {
      "text/plain": [
       "<AxesSubplot:xlabel='City_Category', ylabel='count'>"
      ]
     },
     "execution_count": 73,
     "metadata": {},
     "output_type": "execute_result"
    },
    {
     "data": {
      "image/png": "[encoded data removed]",
      "text/plain": [
       "<Figure size 864x432 with 1 Axes>"
      ]
     },
     "metadata": {},
     "output_type": "display_data"
    }
   ],
   "source": [
    "sns.set(rc={'figure.figsize':(12,6)})\n",
    "sns.countplot(x='City_Category',hue='Marital_Status',data=df)"
   ]
  },
  {
   "cell_type": "code",
   "execution_count": 74,
   "id": "ebec9913",
   "metadata": {},
   "outputs": [
    {
     "data": {
      "text/plain": [
       "<AxesSubplot:xlabel='City_Category', ylabel='count'>"
      ]
     },
     "execution_count": 74,
     "metadata": {},
     "output_type": "execute_result"
    },
    {
     "data": {
      "image/png": "[encoded data removed]",
      "text/plain": [
       "<Figure size 864x432 with 1 Axes>"
      ]
     },
     "metadata": {},
     "output_type": "display_data"
    }
   ],
   "source": [
    "sns.set(rc={'figure.figsize':(12,6)})\n",
    "sns.countplot(x='City_Category',hue='Gender',data=df)"
   ]
  },
  {
   "cell_type": "markdown",
   "id": "9badf8ba",
   "metadata": {},
   "source": [
    "## Occupation and Product analysis"
   ]
  },
  {
   "cell_type": "code",
   "execution_count": 77,
   "id": "a8886517",
   "metadata": {},
   "outputs": [
    {
     "data": {
      "text/html": [
       "<div>\n",
       "<style scoped>\n",
       "    .dataframe tbody tr th:only-of-type {\n",
       "        vertical-align: middle;\n",
       "    }\n",
       "\n",
       "    .dataframe tbody tr th {\n",
       "        vertical-align: top;\n",
       "    }\n",
       "\n",
       "    .dataframe thead th {\n",
       "        text-align: right;\n",
       "    }\n",
       "</style>\n",
       "<table border=\"1\" class=\"dataframe\">\n",
       "  <thead>\n",
       "    <tr style=\"text-align: right;\">\n",
       "      <th></th>\n",
       "      <th>User_ID</th>\n",
       "      <th>Product_ID</th>\n",
       "      <th>Gender</th>\n",
       "      <th>Age</th>\n",
       "      <th>Occupation</th>\n",
       "      <th>City_Category</th>\n",
       "      <th>Stay_In_Current_City_Years</th>\n",
       "      <th>Marital_Status</th>\n",
       "      <th>Product_Category_1</th>\n",
       "    </tr>\n",
       "  </thead>\n",
       "  <tbody>\n",
       "    <tr>\n",
       "      <th>0</th>\n",
       "      <td>1000004</td>\n",
       "      <td>P00128942</td>\n",
       "      <td>M</td>\n",
       "      <td>46-50</td>\n",
       "      <td>7</td>\n",
       "      <td>B</td>\n",
       "      <td>2</td>\n",
       "      <td>1</td>\n",
       "      <td>1</td>\n",
       "    </tr>\n",
       "    <tr>\n",
       "      <th>1</th>\n",
       "      <td>1000009</td>\n",
       "      <td>P00113442</td>\n",
       "      <td>M</td>\n",
       "      <td>26-35</td>\n",
       "      <td>17</td>\n",
       "      <td>C</td>\n",
       "      <td>0</td>\n",
       "      <td>0</td>\n",
       "      <td>3</td>\n",
       "    </tr>\n",
       "    <tr>\n",
       "      <th>2</th>\n",
       "      <td>1000010</td>\n",
       "      <td>P00288442</td>\n",
       "      <td>F</td>\n",
       "      <td>36-45</td>\n",
       "      <td>1</td>\n",
       "      <td>B</td>\n",
       "      <td>4+</td>\n",
       "      <td>1</td>\n",
       "      <td>5</td>\n",
       "    </tr>\n",
       "    <tr>\n",
       "      <th>3</th>\n",
       "      <td>1000010</td>\n",
       "      <td>P00145342</td>\n",
       "      <td>F</td>\n",
       "      <td>36-45</td>\n",
       "      <td>1</td>\n",
       "      <td>B</td>\n",
       "      <td>4+</td>\n",
       "      <td>1</td>\n",
       "      <td>4</td>\n",
       "    </tr>\n",
       "    <tr>\n",
       "      <th>4</th>\n",
       "      <td>1000011</td>\n",
       "      <td>P00053842</td>\n",
       "      <td>F</td>\n",
       "      <td>26-35</td>\n",
       "      <td>1</td>\n",
       "      <td>C</td>\n",
       "      <td>1</td>\n",
       "      <td>0</td>\n",
       "      <td>4</td>\n",
       "    </tr>\n",
       "    <tr>\n",
       "      <th>...</th>\n",
       "      <td>...</td>\n",
       "      <td>...</td>\n",
       "      <td>...</td>\n",
       "      <td>...</td>\n",
       "      <td>...</td>\n",
       "      <td>...</td>\n",
       "      <td>...</td>\n",
       "      <td>...</td>\n",
       "      <td>...</td>\n",
       "    </tr>\n",
       "    <tr>\n",
       "      <th>233594</th>\n",
       "      <td>1006036</td>\n",
       "      <td>P00118942</td>\n",
       "      <td>F</td>\n",
       "      <td>26-35</td>\n",
       "      <td>15</td>\n",
       "      <td>B</td>\n",
       "      <td>4+</td>\n",
       "      <td>1</td>\n",
       "      <td>8</td>\n",
       "    </tr>\n",
       "    <tr>\n",
       "      <th>233595</th>\n",
       "      <td>1006036</td>\n",
       "      <td>P00254642</td>\n",
       "      <td>F</td>\n",
       "      <td>26-35</td>\n",
       "      <td>15</td>\n",
       "      <td>B</td>\n",
       "      <td>4+</td>\n",
       "      <td>1</td>\n",
       "      <td>5</td>\n",
       "    </tr>\n",
       "    <tr>\n",
       "      <th>233596</th>\n",
       "      <td>1006036</td>\n",
       "      <td>P00031842</td>\n",
       "      <td>F</td>\n",
       "      <td>26-35</td>\n",
       "      <td>15</td>\n",
       "      <td>B</td>\n",
       "      <td>4+</td>\n",
       "      <td>1</td>\n",
       "      <td>1</td>\n",
       "    </tr>\n",
       "    <tr>\n",
       "      <th>233597</th>\n",
       "      <td>1006037</td>\n",
       "      <td>P00124742</td>\n",
       "      <td>F</td>\n",
       "      <td>46-50</td>\n",
       "      <td>1</td>\n",
       "      <td>C</td>\n",
       "      <td>4+</td>\n",
       "      <td>0</td>\n",
       "      <td>10</td>\n",
       "    </tr>\n",
       "    <tr>\n",
       "      <th>233598</th>\n",
       "      <td>1006039</td>\n",
       "      <td>P00316642</td>\n",
       "      <td>F</td>\n",
       "      <td>46-50</td>\n",
       "      <td>0</td>\n",
       "      <td>B</td>\n",
       "      <td>4+</td>\n",
       "      <td>1</td>\n",
       "      <td>4</td>\n",
       "    </tr>\n",
       "  </tbody>\n",
       "</table>\n",
       "<p>233599 rows × 9 columns</p>\n",
       "</div>"
      ],
      "text/plain": [
       "        User_ID Product_ID Gender    Age  Occupation City_Category  \\\n",
       "0       1000004  P00128942      M  46-50           7             B   \n",
       "1       1000009  P00113442      M  26-35          17             C   \n",
       "2       1000010  P00288442      F  36-45           1             B   \n",
       "3       1000010  P00145342      F  36-45           1             B   \n",
       "4       1000011  P00053842      F  26-35           1             C   \n",
       "...         ...        ...    ...    ...         ...           ...   \n",
       "233594  1006036  P00118942      F  26-35          15             B   \n",
       "233595  1006036  P00254642      F  26-35          15             B   \n",
       "233596  1006036  P00031842      F  26-35          15             B   \n",
       "233597  1006037  P00124742      F  46-50           1             C   \n",
       "233598  1006039  P00316642      F  46-50           0             B   \n",
       "\n",
       "       Stay_In_Current_City_Years  Marital_Status  Product_Category_1  \n",
       "0                               2               1                   1  \n",
       "1                               0               0                   3  \n",
       "2                              4+               1                   5  \n",
       "3                              4+               1                   4  \n",
       "4                               1               0                   4  \n",
       "...                           ...             ...                 ...  \n",
       "233594                         4+               1                   8  \n",
       "233595                         4+               1                   5  \n",
       "233596                         4+               1                   1  \n",
       "233597                         4+               0                  10  \n",
       "233598                         4+               1                   4  \n",
       "\n",
       "[233599 rows x 9 columns]"
      ]
     },
     "execution_count": 77,
     "metadata": {},
     "output_type": "execute_result"
    }
   ],
   "source": [
    "df"
   ]
  },
  {
   "cell_type": "code",
   "execution_count": 78,
   "id": "68a7ff51",
   "metadata": {},
   "outputs": [
    {
     "data": {
      "text/plain": [
       "<AxesSubplot:xlabel='Stay_In_Current_City_Years', ylabel='count'>"
      ]
     },
     "execution_count": 78,
     "metadata": {},
     "output_type": "execute_result"
    },
    {
     "data": {
      "image/png": "[encoded data removed]",
      "text/plain": [
       "<Figure size 864x432 with 1 Axes>"
      ]
     },
     "metadata": {},
     "output_type": "display_data"
    }
   ],
   "source": [
    "sns.countplot(x=df['Stay_In_Current_City_Years'])"
   ]
  },
  {
   "cell_type": "code",
   "execution_count": 79,
   "id": "da725dce",
   "metadata": {},
   "outputs": [
    {
     "data": {
      "text/plain": [
       "<AxesSubplot:xlabel='Stay_In_Current_City_Years', ylabel='count'>"
      ]
     },
     "execution_count": 79,
     "metadata": {},
     "output_type": "execute_result"
    },
    {
     "data": {
      "image/png": "[encoded data removed]",
      "text/plain": [
       "<Figure size 864x432 with 1 Axes>"
      ]
     },
     "metadata": {},
     "output_type": "display_data"
    }
   ],
   "source": [
    "sns.countplot(x='Stay_In_Current_City_Years',hue='Gender',data=df)"
   ]
  },
  {
   "cell_type": "code",
   "execution_count": 80,
   "id": "f519108d",
   "metadata": {},
   "outputs": [
    {
     "data": {
      "text/plain": [
       "<AxesSubplot:xlabel='Stay_In_Current_City_Years', ylabel='count'>"
      ]
     },
     "execution_count": 80,
     "metadata": {},
     "output_type": "execute_result"
    },
    {
     "data": {
      "image/png": "[encoded data removed]",
      "text/plain": [
       "<Figure size 864x432 with 1 Axes>"
      ]
     },
     "metadata": {},
     "output_type": "display_data"
    }
   ],
   "source": [
    "sns.countplot(x='Stay_In_Current_City_Years',hue='Marital_Status',data=df)"
   ]
  },
  {
   "cell_type": "code",
   "execution_count": 81,
   "id": "4d587c2f",
   "metadata": {},
   "outputs": [
    {
     "data": {
      "text/plain": [
       "<AxesSubplot:xlabel='Stay_In_Current_City_Years', ylabel='count'>"
      ]
     },
     "execution_count": 81,
     "metadata": {},
     "output_type": "execute_result"
    },
    {
     "data": {
      "image/png": "[encoded data removed]",
      "text/plain": [
       "<Figure size 864x432 with 1 Axes>"
      ]
     },
     "metadata": {},
     "output_type": "display_data"
    }
   ],
   "source": [
    "sns.countplot(x='Stay_In_Current_City_Years',hue='City_Category',data=df)"
   ]
  },
  {
   "cell_type": "code",
   "execution_count": 82,
   "id": "47e717cc",
   "metadata": {},
   "outputs": [
    {
     "data": {
      "text/plain": [
       "<AxesSubplot:xlabel='City_Category', ylabel='count'>"
      ]
     },
     "execution_count": 82,
     "metadata": {},
     "output_type": "execute_result"
    },
    {
     "data": {
      "image/png": "[encoded data removed]",
      "text/plain": [
       "<Figure size 864x432 with 1 Axes>"
      ]
     },
     "metadata": {},
     "output_type": "display_data"
    }
   ],
   "source": [
    "sns.countplot(x=df['City_Category'])"
   ]
  },
  {
   "cell_type": "code",
   "execution_count": 83,
   "id": "e66b3226",
   "metadata": {},
   "outputs": [
    {
     "data": {
      "text/plain": [
       "<AxesSubplot:xlabel='City_Category', ylabel='count'>"
      ]
     },
     "execution_count": 83,
     "metadata": {},
     "output_type": "execute_result"
    },
    {
     "data": {
      "image/png": "[encoded data removed]",
      "text/plain": [
       "<Figure size 864x432 with 1 Axes>"
      ]
     },
     "metadata": {},
     "output_type": "display_data"
    }
   ],
   "source": [
    "sns.countplot(x='City_Category',hue='Age',data=df)"
   ]
  },
  {
   "cell_type": "code",
   "execution_count": 84,
   "id": "29f59123",
   "metadata": {},
   "outputs": [
    {
     "data": {
      "text/plain": [
       "<AxesSubplot:ylabel='None'>"
      ]
     },
     "execution_count": 84,
     "metadata": {},
     "output_type": "execute_result"
    },
    {
     "data": {
      "image/png": "[encoded data removed]",
      "text/plain": [
       "<Figure size 864x432 with 1 Axes>"
      ]
     },
     "metadata": {},
     "output_type": "display_data"
    }
   ],
   "source": [
    "df.groupby('Stay_In_Current_City_Years').size().plot(kind='pie',autopct=\"%.1f\")"
   ]
  },
  {
   "cell_type": "code",
   "execution_count": 85,
   "id": "41ee4d3a",
   "metadata": {},
   "outputs": [
    {
     "data": {
      "text/plain": [
       "<AxesSubplot:xlabel='Occupation', ylabel='count'>"
      ]
     },
     "execution_count": 85,
     "metadata": {},
     "output_type": "execute_result"
    },
    {
     "data": {
      "image/png": "[encoded data removed]",
      "text/plain": [
       "<Figure size 864x432 with 1 Axes>"
      ]
     },
     "metadata": {},
     "output_type": "display_data"
    }
   ],
   "source": [
    "sns.countplot(x=df['Occupation'])"
   ]
  },
  {
   "cell_type": "code",
   "execution_count": 87,
   "id": "efc96140",
   "metadata": {},
   "outputs": [
    {
     "data": {
      "text/plain": [
       "Occupation\n",
       "0     29212\n",
       "1     20261\n",
       "2     11408\n",
       "3      7476\n",
       "4     30778\n",
       "5      5196\n",
       "6      8747\n",
       "7     24994\n",
       "8       643\n",
       "9      2638\n",
       "10     5374\n",
       "11     5007\n",
       "12    13269\n",
       "13     3325\n",
       "14    11473\n",
       "15     5191\n",
       "16    10751\n",
       "17    17375\n",
       "18     2745\n",
       "19     3458\n",
       "20    14278\n",
       "dtype: int64"
      ]
     },
     "execution_count": 87,
     "metadata": {},
     "output_type": "execute_result"
    }
   ],
   "source": [
    "df.groupby('Occupation').size()"
   ]
  },
  {
   "cell_type": "code",
   "execution_count": 91,
   "id": "867687d3",
   "metadata": {},
   "outputs": [
    {
     "data": {
      "text/plain": [
       "<AxesSubplot:xlabel='Occupation'>"
      ]
     },
     "execution_count": 91,
     "metadata": {},
     "output_type": "execute_result"
    },
    {
     "data": {
      "image/png": "[encoded data removed]",
      "text/plain": [
       "<Figure size 864x432 with 1 Axes>"
      ]
     },
     "metadata": {},
     "output_type": "display_data"
    }
   ],
   "source": [
    "df.groupby('Occupation').size().sort_values().plot(kind='bar')"
   ]
  },
  {
   "cell_type": "code",
   "execution_count": 92,
   "id": "8bab5025",
   "metadata": {},
   "outputs": [
    {
     "data": {
      "text/plain": [
       "<AxesSubplot:xlabel='Occupation', ylabel='count'>"
      ]
     },
     "execution_count": 92,
     "metadata": {},
     "output_type": "execute_result"
    },
    {
     "data": {
      "image/png": "[encoded data removed]",
      "text/plain": [
       "<Figure size 864x432 with 1 Axes>"
      ]
     },
     "metadata": {},
     "output_type": "display_data"
    }
   ],
   "source": [
    "sns.countplot(x='Occupation',hue='Marital_Status',data=df)"
   ]
  },
  {
   "cell_type": "code",
   "execution_count": 94,
   "id": "9f9eaf3b",
   "metadata": {},
   "outputs": [
    {
     "data": {
      "text/plain": [
       "<AxesSubplot:xlabel='Occupation', ylabel='count'>"
      ]
     },
     "execution_count": 94,
     "metadata": {},
     "output_type": "execute_result"
    },
    {
     "data": {
      "image/png": "[encoded data removed]",
      "text/plain": [
       "<Figure size 864x432 with 1 Axes>"
      ]
     },
     "metadata": {},
     "output_type": "display_data"
    }
   ],
   "source": [
    "sns.countplot(x='Occupation',hue='Gender',data=df)"
   ]
  },
  {
   "cell_type": "code",
   "execution_count": 96,
   "id": "0cc59b8c",
   "metadata": {},
   "outputs": [
    {
     "data": {
      "text/plain": [
       "Occupation\n",
       "0     2921\n",
       "1     2683\n",
       "2     2397\n",
       "3     2144\n",
       "4     2808\n",
       "5     1804\n",
       "6     2208\n",
       "7     2779\n",
       "8      521\n",
       "9     1257\n",
       "10    1611\n",
       "11    1706\n",
       "12    2208\n",
       "13    1367\n",
       "14    2241\n",
       "15    1658\n",
       "16    2361\n",
       "17    2465\n",
       "18    1410\n",
       "19    1640\n",
       "20    2702\n",
       "Name: Product_ID, dtype: int64"
      ]
     },
     "execution_count": 96,
     "metadata": {},
     "output_type": "execute_result"
    }
   ],
   "source": [
    "df.groupby('Occupation').nunique()['Product_ID']  # Number of unique product people are buying from different occupations"
   ]
  },
  {
   "cell_type": "code",
   "execution_count": 98,
   "id": "ae72d0d9",
   "metadata": {},
   "outputs": [
    {
     "data": {
      "text/plain": [
       "<AxesSubplot:xlabel='Occupation'>"
      ]
     },
     "execution_count": 98,
     "metadata": {},
     "output_type": "execute_result"
    },
    {
     "data": {
      "image/png": "[encoded data removed]",
      "text/plain": [
       "<Figure size 864x432 with 1 Axes>"
      ]
     },
     "metadata": {},
     "output_type": "display_data"
    }
   ],
   "source": [
    "df.groupby('Occupation').nunique()['Product_ID'].sort_values().plot(kind='bar')"
   ]
  },
  {
   "cell_type": "code",
   "execution_count": 99,
   "id": "2061153d",
   "metadata": {},
   "outputs": [
    {
     "data": {
      "text/plain": [
       "Product_Category_1\n",
       "1     60321\n",
       "2     10192\n",
       "3      8578\n",
       "4      5003\n",
       "5     65017\n",
       "6      8860\n",
       "7      1624\n",
       "8     48369\n",
       "9       194\n",
       "10     2248\n",
       "11    10153\n",
       "12     1663\n",
       "13     2381\n",
       "14      663\n",
       "15     2694\n",
       "16     4105\n",
       "17      223\n",
       "18     1311\n",
       "dtype: int64"
      ]
     },
     "execution_count": 99,
     "metadata": {},
     "output_type": "execute_result"
    }
   ],
   "source": [
    "df.groupby('Product_Category_1').size()"
   ]
  },
  {
   "cell_type": "code",
   "execution_count": 101,
   "id": "3cf1b7d5",
   "metadata": {},
   "outputs": [
    {
     "data": {
      "text/plain": [
       "<AxesSubplot:xlabel='Product_Category_1'>"
      ]
     },
     "execution_count": 101,
     "metadata": {},
     "output_type": "execute_result"
    },
    {
     "data": {
      "image/png": "[encoded data removed]",
      "text/plain": [
       "<Figure size 864x432 with 1 Axes>"
      ]
     },
     "metadata": {},
     "output_type": "display_data"
    }
   ],
   "source": [
    "df.groupby('Product_Category_1').size().sort_values().plot(kind='bar')"
   ]
  },
  {
   "cell_type": "markdown",
   "id": "3d986c06",
   "metadata": {},
   "source": [
    "## Combining Age and Marital Status"
   ]
  },
  {
   "cell_type": "code",
   "execution_count": 102,
   "id": "ee7663b7",
   "metadata": {},
   "outputs": [
    {
     "data": {
      "text/html": [
       "<div>\n",
       "<style scoped>\n",
       "    .dataframe tbody tr th:only-of-type {\n",
       "        vertical-align: middle;\n",
       "    }\n",
       "\n",
       "    .dataframe tbody tr th {\n",
       "        vertical-align: top;\n",
       "    }\n",
       "\n",
       "    .dataframe thead th {\n",
       "        text-align: right;\n",
       "    }\n",
       "</style>\n",
       "<table border=\"1\" class=\"dataframe\">\n",
       "  <thead>\n",
       "    <tr style=\"text-align: right;\">\n",
       "      <th></th>\n",
       "      <th>User_ID</th>\n",
       "      <th>Product_ID</th>\n",
       "      <th>Gender</th>\n",
       "      <th>Age</th>\n",
       "      <th>Occupation</th>\n",
       "      <th>City_Category</th>\n",
       "      <th>Stay_In_Current_City_Years</th>\n",
       "      <th>Marital_Status</th>\n",
       "      <th>Product_Category_1</th>\n",
       "    </tr>\n",
       "  </thead>\n",
       "  <tbody>\n",
       "    <tr>\n",
       "      <th>0</th>\n",
       "      <td>1000004</td>\n",
       "      <td>P00128942</td>\n",
       "      <td>M</td>\n",
       "      <td>46-50</td>\n",
       "      <td>7</td>\n",
       "      <td>B</td>\n",
       "      <td>2</td>\n",
       "      <td>1</td>\n",
       "      <td>1</td>\n",
       "    </tr>\n",
       "    <tr>\n",
       "      <th>1</th>\n",
       "      <td>1000009</td>\n",
       "      <td>P00113442</td>\n",
       "      <td>M</td>\n",
       "      <td>26-35</td>\n",
       "      <td>17</td>\n",
       "      <td>C</td>\n",
       "      <td>0</td>\n",
       "      <td>0</td>\n",
       "      <td>3</td>\n",
       "    </tr>\n",
       "    <tr>\n",
       "      <th>2</th>\n",
       "      <td>1000010</td>\n",
       "      <td>P00288442</td>\n",
       "      <td>F</td>\n",
       "      <td>36-45</td>\n",
       "      <td>1</td>\n",
       "      <td>B</td>\n",
       "      <td>4+</td>\n",
       "      <td>1</td>\n",
       "      <td>5</td>\n",
       "    </tr>\n",
       "    <tr>\n",
       "      <th>3</th>\n",
       "      <td>1000010</td>\n",
       "      <td>P00145342</td>\n",
       "      <td>F</td>\n",
       "      <td>36-45</td>\n",
       "      <td>1</td>\n",
       "      <td>B</td>\n",
       "      <td>4+</td>\n",
       "      <td>1</td>\n",
       "      <td>4</td>\n",
       "    </tr>\n",
       "    <tr>\n",
       "      <th>4</th>\n",
       "      <td>1000011</td>\n",
       "      <td>P00053842</td>\n",
       "      <td>F</td>\n",
       "      <td>26-35</td>\n",
       "      <td>1</td>\n",
       "      <td>C</td>\n",
       "      <td>1</td>\n",
       "      <td>0</td>\n",
       "      <td>4</td>\n",
       "    </tr>\n",
       "  </tbody>\n",
       "</table>\n",
       "</div>"
      ],
      "text/plain": [
       "   User_ID Product_ID Gender    Age  Occupation City_Category  \\\n",
       "0  1000004  P00128942      M  46-50           7             B   \n",
       "1  1000009  P00113442      M  26-35          17             C   \n",
       "2  1000010  P00288442      F  36-45           1             B   \n",
       "3  1000010  P00145342      F  36-45           1             B   \n",
       "4  1000011  P00053842      F  26-35           1             C   \n",
       "\n",
       "  Stay_In_Current_City_Years  Marital_Status  Product_Category_1  \n",
       "0                          2               1                   1  \n",
       "1                          0               0                   3  \n",
       "2                         4+               1                   5  \n",
       "3                         4+               1                   4  \n",
       "4                          1               0                   4  "
      ]
     },
     "execution_count": 102,
     "metadata": {},
     "output_type": "execute_result"
    }
   ],
   "source": [
    "df.head()"
   ]
  },
  {
   "cell_type": "code",
   "execution_count": 107,
   "id": "6f33662e",
   "metadata": {},
   "outputs": [
    {
     "name": "stdout",
     "output_type": "stream",
     "text": [
      "M_1\n"
     ]
    }
   ],
   "source": [
    "\n",
    "\n",
    "for i in range(len(df)):\n",
    "    print(df['Gender'][i] +\"_\"+ str(df['Marital_Status'][i]))\n",
    "    break"
   ]
  },
  {
   "cell_type": "code",
   "execution_count": 108,
   "id": "d9168fe2",
   "metadata": {},
   "outputs": [],
   "source": [
    "l =[]\n",
    "for i in range(len(df)):\n",
    "    l.append(df['Gender'][i] + \"_\"+ str(df['Marital_Status'][i]))"
   ]
  },
  {
   "cell_type": "code",
   "execution_count": 109,
   "id": "1d23472c",
   "metadata": {},
   "outputs": [
    {
     "data": {
      "text/plain": [
       "['M_1',\n",
       " 'M_0',\n",
       " 'F_1',\n",
       " 'F_1',\n",
       " 'F_0',\n",
       " 'M_1',\n",
       " 'M_1',\n",
       " 'M_1',\n",
       " 'M_0',\n",
       " 'M_0',\n",
       " 'M_1',\n",
       " 'M_1',\n",
       " 'M_1',\n",
       " 'M_1',\n",
       " 'F_1',\n",
       " 'M_0',\n",
       " 'M_1',\n",
       " 'M_1',\n",
       " 'F_0',\n",
       " 'M_1',\n",
       " 'M_0',\n",
       " 'M_0',\n",
       " 'M_1',\n",
       " 'F_1',\n",
       " 'F_1',\n",
       " 'F_1',\n",
       " 'M_1',\n",
       " 'M_1',\n",
       " 'M_0',\n",
       " 'M_0',\n",
       " 'M_0',\n",
       " 'M_0',\n",
       " 'M_0',\n",
       " 'F_1',\n",
       " 'F_0',\n",
       " 'M_0',\n",
       " 'M_0',\n",
       " 'M_1',\n",
       " 'M_0',\n",
       " 'F_0',\n",
       " 'M_0',\n",
       " 'F_1',\n",
       " 'M_1',\n",
       " 'F_1',\n",
       " 'F_1',\n",
       " 'M_1',\n",
       " 'M_0',\n",
       " 'F_0',\n",
       " 'F_0',\n",
       " 'M_0',\n",
       " 'F_1',\n",
       " 'F_0',\n",
       " 'F_1',\n",
       " 'M_0',\n",
       " 'M_0',\n",
       " 'M_0',\n",
       " 'M_1',\n",
       " 'M_0',\n",
       " 'M_1',\n",
       " 'M_1',\n",
       " 'M_1',\n",
       " 'M_1',\n",
       " 'M_0',\n",
       " 'M_1',\n",
       " 'M_1',\n",
       " 'M_1',\n",
       " 'M_1',\n",
       " 'M_0',\n",
       " 'M_1',\n",
       " 'M_1',\n",
       " 'M_0',\n",
       " 'M_0',\n",
       " 'M_1',\n",
       " 'M_1',\n",
       " 'M_0',\n",
       " 'F_0',\n",
       " 'F_0',\n",
       " 'F_1',\n",
       " 'M_0',\n",
       " 'M_0',\n",
       " 'M_1',\n",
       " 'M_1',\n",
       " 'M_1',\n",
       " 'F_1',\n",
       " 'F_1',\n",
       " 'M_0',\n",
       " 'M_0',\n",
       " 'M_0',\n",
       " 'M_0',\n",
       " 'M_0',\n",
       " 'M_1',\n",
       " 'M_1',\n",
       " 'M_1',\n",
       " 'M_1',\n",
       " 'M_0',\n",
       " 'M_0',\n",
       " 'M_0',\n",
       " 'M_0',\n",
       " 'M_1',\n",
       " 'M_1',\n",
       " 'M_0',\n",
       " 'M_0',\n",
       " 'M_0',\n",
       " 'M_0',\n",
       " 'M_1',\n",
       " 'M_1',\n",
       " 'M_1',\n",
       " 'M_1',\n",
       " 'F_0',\n",
       " 'F_0',\n",
       " 'F_0',\n",
       " 'F_0',\n",
       " 'M_0',\n",
       " 'F_0',\n",
       " 'F_0',\n",
       " 'F_0',\n",
       " 'M_1',\n",
       " 'M_0',\n",
       " 'M_0',\n",
       " 'F_1',\n",
       " 'M_1',\n",
       " 'M_1',\n",
       " 'M_1',\n",
       " 'M_1',\n",
       " 'M_1',\n",
       " 'M_1',\n",
       " 'M_0',\n",
       " 'M_0',\n",
       " 'M_0',\n",
       " 'M_0',\n",
       " 'M_1',\n",
       " 'M_0',\n",
       " 'M_0',\n",
       " 'M_0',\n",
       " 'M_0',\n",
       " 'M_1',\n",
       " 'M_0',\n",
       " 'M_0',\n",
       " 'M_0',\n",
       " 'M_0',\n",
       " 'M_0',\n",
       " 'M_0',\n",
       " 'M_0',\n",
       " 'M_0',\n",
       " 'M_0',\n",
       " 'M_0',\n",
       " 'M_0',\n",
       " 'F_1',\n",
       " 'M_0',\n",
       " 'F_0',\n",
       " 'M_0',\n",
       " 'M_0',\n",
       " 'M_0',\n",
       " 'M_0',\n",
       " 'M_1',\n",
       " 'F_0',\n",
       " 'F_0',\n",
       " 'F_0',\n",
       " 'M_0',\n",
       " 'M_0',\n",
       " 'F_0',\n",
       " 'M_1',\n",
       " 'M_1',\n",
       " 'F_0',\n",
       " 'M_0',\n",
       " 'M_0',\n",
       " 'M_0',\n",
       " 'M_1',\n",
       " 'M_0',\n",
       " 'M_1',\n",
       " 'F_0',\n",
       " 'M_1',\n",
       " 'M_1',\n",
       " 'M_0',\n",
       " 'M_0',\n",
       " 'M_0',\n",
       " 'M_0',\n",
       " 'M_1',\n",
       " 'M_1',\n",
       " 'M_1',\n",
       " 'M_1',\n",
       " 'M_0',\n",
       " 'M_0',\n",
       " 'M_1',\n",
       " 'F_0',\n",
       " 'F_0',\n",
       " 'F_0',\n",
       " 'F_0',\n",
       " 'F_0',\n",
       " 'F_1',\n",
       " 'F_1',\n",
       " 'F_1',\n",
       " 'M_0',\n",
       " 'M_0',\n",
       " 'M_0',\n",
       " 'M_1',\n",
       " 'M_1',\n",
       " 'M_1',\n",
       " 'M_0',\n",
       " 'M_0',\n",
       " 'M_0',\n",
       " 'M_0',\n",
       " 'M_0',\n",
       " 'M_0',\n",
       " 'M_1',\n",
       " 'M_1',\n",
       " 'M_0',\n",
       " 'F_1',\n",
       " 'M_0',\n",
       " 'F_0',\n",
       " 'M_1',\n",
       " 'F_0',\n",
       " 'F_0',\n",
       " 'M_1',\n",
       " 'M_0',\n",
       " 'M_0',\n",
       " 'M_0',\n",
       " 'M_0',\n",
       " 'M_0',\n",
       " 'M_0',\n",
       " 'M_0',\n",
       " 'M_0',\n",
       " 'M_1',\n",
       " 'F_0',\n",
       " 'F_0',\n",
       " 'F_0',\n",
       " 'M_0',\n",
       " 'M_0',\n",
       " 'M_0',\n",
       " 'M_0',\n",
       " 'M_0',\n",
       " 'M_0',\n",
       " 'M_0',\n",
       " 'M_1',\n",
       " 'M_1',\n",
       " 'F_1',\n",
       " 'M_0',\n",
       " 'M_0',\n",
       " 'M_0',\n",
       " 'M_0',\n",
       " 'M_0',\n",
       " 'M_1',\n",
       " 'M_1',\n",
       " 'M_1',\n",
       " 'M_0',\n",
       " 'F_1',\n",
       " 'F_1',\n",
       " 'F_1',\n",
       " 'M_1',\n",
       " 'F_1',\n",
       " 'F_1',\n",
       " 'M_0',\n",
       " 'M_0',\n",
       " 'M_0',\n",
       " 'M_0',\n",
       " 'M_0',\n",
       " 'M_0',\n",
       " 'M_1',\n",
       " 'M_1',\n",
       " 'M_1',\n",
       " 'M_1',\n",
       " 'M_1',\n",
       " 'M_0',\n",
       " 'M_0',\n",
       " 'M_0',\n",
       " 'M_0',\n",
       " 'M_0',\n",
       " 'M_0',\n",
       " 'M_0',\n",
       " 'M_0',\n",
       " 'M_1',\n",
       " 'M_0',\n",
       " 'M_0',\n",
       " 'M_0',\n",
       " 'M_1',\n",
       " 'M_1',\n",
       " 'M_0',\n",
       " 'M_0',\n",
       " 'M_0',\n",
       " 'M_1',\n",
       " 'M_0',\n",
       " 'F_0',\n",
       " 'M_1',\n",
       " 'M_1',\n",
       " 'M_1',\n",
       " 'M_0',\n",
       " 'F_0',\n",
       " 'M_0',\n",
       " 'M_1',\n",
       " 'M_1',\n",
       " 'M_1',\n",
       " 'M_1',\n",
       " 'M_0',\n",
       " 'M_1',\n",
       " 'F_0',\n",
       " 'F_0',\n",
       " 'F_0',\n",
       " 'F_0',\n",
       " 'F_0',\n",
       " 'F_0',\n",
       " 'M_0',\n",
       " 'M_0',\n",
       " 'M_0',\n",
       " 'M_0',\n",
       " 'M_0',\n",
       " 'M_0',\n",
       " 'M_1',\n",
       " 'M_0',\n",
       " 'M_0',\n",
       " 'M_0',\n",
       " 'F_0',\n",
       " 'M_1',\n",
       " 'F_0',\n",
       " 'M_0',\n",
       " 'M_1',\n",
       " 'M_1',\n",
       " 'M_1',\n",
       " 'M_1',\n",
       " 'M_0',\n",
       " 'M_1',\n",
       " 'F_0',\n",
       " 'F_0',\n",
       " 'F_0',\n",
       " 'F_1',\n",
       " 'M_0',\n",
       " 'M_0',\n",
       " 'M_0',\n",
       " 'M_0',\n",
       " 'M_0',\n",
       " 'M_0',\n",
       " 'F_1',\n",
       " 'M_0',\n",
       " 'M_0',\n",
       " 'M_0',\n",
       " 'F_0',\n",
       " 'F_0',\n",
       " 'F_0',\n",
       " 'F_0',\n",
       " 'M_0',\n",
       " 'F_1',\n",
       " 'F_1',\n",
       " 'F_0',\n",
       " 'M_1',\n",
       " 'M_1',\n",
       " 'M_1',\n",
       " 'M_1',\n",
       " 'M_0',\n",
       " 'M_0',\n",
       " 'M_0',\n",
       " 'M_0',\n",
       " 'M_0',\n",
       " 'F_0',\n",
       " 'M_1',\n",
       " 'F_0',\n",
       " 'M_1',\n",
       " 'M_1',\n",
       " 'M_1',\n",
       " 'M_1',\n",
       " 'F_1',\n",
       " 'M_1',\n",
       " 'M_1',\n",
       " 'M_0',\n",
       " 'M_1',\n",
       " 'M_1',\n",
       " 'F_1',\n",
       " 'F_1',\n",
       " 'M_1',\n",
       " 'M_0',\n",
       " 'M_0',\n",
       " 'M_0',\n",
       " 'M_0',\n",
       " 'F_0',\n",
       " 'F_1',\n",
       " 'M_0',\n",
       " 'M_0',\n",
       " 'M_1',\n",
       " 'M_1',\n",
       " 'M_1',\n",
       " 'M_1',\n",
       " 'M_0',\n",
       " 'F_0',\n",
       " 'F_0',\n",
       " 'F_0',\n",
       " 'F_1',\n",
       " 'F_1',\n",
       " 'F_1',\n",
       " 'F_1',\n",
       " 'F_1',\n",
       " 'F_1',\n",
       " 'M_1',\n",
       " 'M_1',\n",
       " 'M_1',\n",
       " 'M_1',\n",
       " 'M_1',\n",
       " 'M_1',\n",
       " 'M_1',\n",
       " 'M_1',\n",
       " 'M_0',\n",
       " 'M_0',\n",
       " 'M_0',\n",
       " 'M_0',\n",
       " 'M_0',\n",
       " 'M_0',\n",
       " 'M_0',\n",
       " 'M_0',\n",
       " 'M_0',\n",
       " 'M_0',\n",
       " 'M_0',\n",
       " 'M_0',\n",
       " 'M_0',\n",
       " 'F_0',\n",
       " 'M_0',\n",
       " 'M_1',\n",
       " 'M_1',\n",
       " 'M_1',\n",
       " 'M_0',\n",
       " 'M_0',\n",
       " 'M_0',\n",
       " 'M_1',\n",
       " 'M_1',\n",
       " 'M_0',\n",
       " 'M_0',\n",
       " 'M_0',\n",
       " 'M_0',\n",
       " 'M_0',\n",
       " 'M_0',\n",
       " 'M_0',\n",
       " 'F_1',\n",
       " 'F_0',\n",
       " 'F_0',\n",
       " 'F_0',\n",
       " 'F_0',\n",
       " 'M_0',\n",
       " 'M_0',\n",
       " 'M_0',\n",
       " 'M_0',\n",
       " 'M_0',\n",
       " 'M_0',\n",
       " 'M_0',\n",
       " 'M_0',\n",
       " 'M_0',\n",
       " 'F_0',\n",
       " 'M_0',\n",
       " 'M_0',\n",
       " 'M_0',\n",
       " 'M_0',\n",
       " 'M_0',\n",
       " 'M_1',\n",
       " 'M_1',\n",
       " 'M_1',\n",
       " 'M_0',\n",
       " 'M_0',\n",
       " 'M_0',\n",
       " 'M_0',\n",
       " 'M_0',\n",
       " 'M_0',\n",
       " 'M_0',\n",
       " 'M_0',\n",
       " 'M_1',\n",
       " 'M_0',\n",
       " 'M_1',\n",
       " 'M_0',\n",
       " 'M_0',\n",
       " 'M_0',\n",
       " 'M_0',\n",
       " 'F_1',\n",
       " 'F_1',\n",
       " 'F_1',\n",
       " 'M_0',\n",
       " 'M_1',\n",
       " 'M_0',\n",
       " 'M_0',\n",
       " 'M_0',\n",
       " 'M_0',\n",
       " 'M_0',\n",
       " 'M_0',\n",
       " 'F_0',\n",
       " 'M_1',\n",
       " 'F_0',\n",
       " 'F_1',\n",
       " 'F_1',\n",
       " 'M_1',\n",
       " 'M_0',\n",
       " 'M_1',\n",
       " 'M_0',\n",
       " 'M_1',\n",
       " 'M_1',\n",
       " 'M_1',\n",
       " 'M_0',\n",
       " 'M_1',\n",
       " 'M_1',\n",
       " 'M_0',\n",
       " 'F_0',\n",
       " 'M_0',\n",
       " 'M_0',\n",
       " 'M_0',\n",
       " 'M_0',\n",
       " 'M_0',\n",
       " 'M_0',\n",
       " 'M_0',\n",
       " 'M_0',\n",
       " 'M_0',\n",
       " 'M_0',\n",
       " 'M_0',\n",
       " 'M_0',\n",
       " 'M_0',\n",
       " 'M_0',\n",
       " 'M_0',\n",
       " 'M_0',\n",
       " 'M_1',\n",
       " 'M_1',\n",
       " 'M_1',\n",
       " 'F_0',\n",
       " 'F_0',\n",
       " 'F_0',\n",
       " 'F_0',\n",
       " 'M_1',\n",
       " 'M_1',\n",
       " 'M_0',\n",
       " 'F_1',\n",
       " 'F_1',\n",
       " 'M_0',\n",
       " 'M_0',\n",
       " 'F_0',\n",
       " 'F_0',\n",
       " 'M_1',\n",
       " 'F_0',\n",
       " 'F_0',\n",
       " 'F_0',\n",
       " 'F_0',\n",
       " 'F_0',\n",
       " 'F_0',\n",
       " 'M_0',\n",
       " 'M_1',\n",
       " 'M_1',\n",
       " 'M_1',\n",
       " 'F_1',\n",
       " 'F_1',\n",
       " 'F_1',\n",
       " 'F_1',\n",
       " 'M_0',\n",
       " 'M_0',\n",
       " 'M_0',\n",
       " 'M_1',\n",
       " 'M_0',\n",
       " 'M_1',\n",
       " 'M_1',\n",
       " 'M_1',\n",
       " 'M_0',\n",
       " 'M_0',\n",
       " 'M_1',\n",
       " 'M_1',\n",
       " 'M_1',\n",
       " 'M_1',\n",
       " 'M_1',\n",
       " 'M_1',\n",
       " 'M_0',\n",
       " 'M_0',\n",
       " 'F_0',\n",
       " 'M_1',\n",
       " 'M_1',\n",
       " 'M_0',\n",
       " 'M_0',\n",
       " 'M_0',\n",
       " 'M_0',\n",
       " 'M_0',\n",
       " 'M_0',\n",
       " 'M_0',\n",
       " 'M_0',\n",
       " 'M_0',\n",
       " 'M_0',\n",
       " 'M_0',\n",
       " 'M_0',\n",
       " 'M_0',\n",
       " 'M_1',\n",
       " 'M_1',\n",
       " 'M_1',\n",
       " 'M_1',\n",
       " 'M_1',\n",
       " 'M_0',\n",
       " 'M_0',\n",
       " 'M_0',\n",
       " 'M_0',\n",
       " 'M_0',\n",
       " 'M_1',\n",
       " 'M_1',\n",
       " 'M_1',\n",
       " 'M_1',\n",
       " 'M_1',\n",
       " 'M_1',\n",
       " 'M_0',\n",
       " 'M_0',\n",
       " 'M_0',\n",
       " 'M_1',\n",
       " 'M_0',\n",
       " 'M_0',\n",
       " 'M_0',\n",
       " 'M_0',\n",
       " 'F_1',\n",
       " 'F_1',\n",
       " 'F_1',\n",
       " 'F_1',\n",
       " 'F_1',\n",
       " 'F_1',\n",
       " 'M_0',\n",
       " 'M_1',\n",
       " 'M_0',\n",
       " 'M_0',\n",
       " 'M_0',\n",
       " 'F_0',\n",
       " 'F_0',\n",
       " 'M_1',\n",
       " 'M_1',\n",
       " 'F_1',\n",
       " 'M_0',\n",
       " 'F_1',\n",
       " 'F_1',\n",
       " 'F_1',\n",
       " 'F_1',\n",
       " 'M_0',\n",
       " 'M_1',\n",
       " 'M_0',\n",
       " 'M_0',\n",
       " 'F_0',\n",
       " 'F_0',\n",
       " 'F_0',\n",
       " 'F_0',\n",
       " 'F_0',\n",
       " 'F_0',\n",
       " 'F_0',\n",
       " 'F_0',\n",
       " 'F_0',\n",
       " 'M_0',\n",
       " 'M_0',\n",
       " 'M_1',\n",
       " 'M_1',\n",
       " 'M_1',\n",
       " 'M_0',\n",
       " 'M_0',\n",
       " 'M_0',\n",
       " 'M_0',\n",
       " 'F_1',\n",
       " 'M_0',\n",
       " 'M_0',\n",
       " 'M_0',\n",
       " 'M_0',\n",
       " 'M_0',\n",
       " 'M_0',\n",
       " 'M_0',\n",
       " 'M_0',\n",
       " 'F_0',\n",
       " 'F_0',\n",
       " 'F_0',\n",
       " 'M_0',\n",
       " 'M_0',\n",
       " 'M_0',\n",
       " 'M_0',\n",
       " 'M_1',\n",
       " 'M_1',\n",
       " 'M_1',\n",
       " 'M_1',\n",
       " 'M_1',\n",
       " 'M_1',\n",
       " 'M_1',\n",
       " 'M_1',\n",
       " 'F_0',\n",
       " 'F_0',\n",
       " 'M_0',\n",
       " 'M_0',\n",
       " 'M_0',\n",
       " 'M_0',\n",
       " 'M_0',\n",
       " 'F_1',\n",
       " 'F_1',\n",
       " 'M_0',\n",
       " 'M_0',\n",
       " 'M_1',\n",
       " 'M_1',\n",
       " 'M_1',\n",
       " 'F_0',\n",
       " 'F_0',\n",
       " 'F_0',\n",
       " 'F_0',\n",
       " 'F_0',\n",
       " 'F_0',\n",
       " 'F_0',\n",
       " 'F_0',\n",
       " 'M_1',\n",
       " 'M_1',\n",
       " 'M_0',\n",
       " 'M_0',\n",
       " 'F_0',\n",
       " 'F_0',\n",
       " 'F_0',\n",
       " 'F_1',\n",
       " 'M_1',\n",
       " 'F_1',\n",
       " 'M_1',\n",
       " 'F_1',\n",
       " 'F_0',\n",
       " 'F_0',\n",
       " 'F_1',\n",
       " 'M_1',\n",
       " 'M_1',\n",
       " 'M_0',\n",
       " 'F_1',\n",
       " 'M_1',\n",
       " 'F_1',\n",
       " 'F_1',\n",
       " 'F_0',\n",
       " 'M_0',\n",
       " 'M_0',\n",
       " 'M_0',\n",
       " 'M_0',\n",
       " 'M_0',\n",
       " 'F_0',\n",
       " 'F_0',\n",
       " 'F_0',\n",
       " 'F_0',\n",
       " 'M_0',\n",
       " 'F_1',\n",
       " 'M_1',\n",
       " 'M_0',\n",
       " 'M_1',\n",
       " 'M_1',\n",
       " 'M_1',\n",
       " 'M_0',\n",
       " 'M_0',\n",
       " 'M_0',\n",
       " 'M_0',\n",
       " 'M_0',\n",
       " 'M_0',\n",
       " 'M_1',\n",
       " 'M_1',\n",
       " 'M_0',\n",
       " 'F_0',\n",
       " 'F_0',\n",
       " 'F_1',\n",
       " 'F_1',\n",
       " 'M_1',\n",
       " 'M_1',\n",
       " 'M_1',\n",
       " 'M_1',\n",
       " 'M_1',\n",
       " 'M_1',\n",
       " 'M_1',\n",
       " 'M_1',\n",
       " 'M_1',\n",
       " 'M_0',\n",
       " 'M_0',\n",
       " 'M_1',\n",
       " 'M_0',\n",
       " 'F_0',\n",
       " 'F_0',\n",
       " 'M_0',\n",
       " 'M_1',\n",
       " 'M_0',\n",
       " 'M_0',\n",
       " 'M_0',\n",
       " 'M_1',\n",
       " 'M_0',\n",
       " 'M_0',\n",
       " 'M_0',\n",
       " 'M_0',\n",
       " 'M_0',\n",
       " 'M_0',\n",
       " 'M_1',\n",
       " 'M_1',\n",
       " 'M_1',\n",
       " 'F_1',\n",
       " 'M_0',\n",
       " 'F_1',\n",
       " 'M_0',\n",
       " 'M_0',\n",
       " 'M_1',\n",
       " 'M_1',\n",
       " 'M_1',\n",
       " 'M_1',\n",
       " 'M_1',\n",
       " 'M_1',\n",
       " 'M_0',\n",
       " 'M_0',\n",
       " 'F_0',\n",
       " 'M_1',\n",
       " 'M_1',\n",
       " 'M_1',\n",
       " 'M_1',\n",
       " 'M_1',\n",
       " 'M_1',\n",
       " 'M_1',\n",
       " 'M_1',\n",
       " 'F_0',\n",
       " 'F_0',\n",
       " 'M_0',\n",
       " 'F_1',\n",
       " 'F_1',\n",
       " 'M_0',\n",
       " 'M_0',\n",
       " 'M_0',\n",
       " 'M_0',\n",
       " 'F_1',\n",
       " 'M_0',\n",
       " 'M_0',\n",
       " 'M_0',\n",
       " 'M_0',\n",
       " 'M_0',\n",
       " 'M_0',\n",
       " 'F_0',\n",
       " 'M_0',\n",
       " 'M_1',\n",
       " 'M_1',\n",
       " 'M_0',\n",
       " 'F_0',\n",
       " 'F_0',\n",
       " 'M_1',\n",
       " 'M_0',\n",
       " 'M_0',\n",
       " 'M_0',\n",
       " 'M_0',\n",
       " 'M_0',\n",
       " 'M_1',\n",
       " 'M_0',\n",
       " 'M_0',\n",
       " 'M_0',\n",
       " 'M_0',\n",
       " 'M_0',\n",
       " 'M_0',\n",
       " 'M_0',\n",
       " 'M_0',\n",
       " 'F_0',\n",
       " 'F_0',\n",
       " 'F_0',\n",
       " 'M_1',\n",
       " 'M_1',\n",
       " 'M_0',\n",
       " 'M_0',\n",
       " 'M_0',\n",
       " 'M_1',\n",
       " 'M_1',\n",
       " 'M_1',\n",
       " 'F_1',\n",
       " 'M_1',\n",
       " 'M_1',\n",
       " 'M_1',\n",
       " 'M_1',\n",
       " 'M_0',\n",
       " 'M_0',\n",
       " 'M_0',\n",
       " 'F_0',\n",
       " 'F_0',\n",
       " 'F_0',\n",
       " 'F_0',\n",
       " 'F_0',\n",
       " 'F_0',\n",
       " 'M_1',\n",
       " 'M_1',\n",
       " 'M_1',\n",
       " 'M_1',\n",
       " 'F_1',\n",
       " 'M_1',\n",
       " 'M_0',\n",
       " 'M_0',\n",
       " 'M_1',\n",
       " 'F_1',\n",
       " 'F_1',\n",
       " 'M_1',\n",
       " 'M_1',\n",
       " 'M_1',\n",
       " 'M_0',\n",
       " 'M_1',\n",
       " 'M_1',\n",
       " 'M_0',\n",
       " 'F_0',\n",
       " 'F_0',\n",
       " 'M_0',\n",
       " 'M_0',\n",
       " 'M_0',\n",
       " 'M_0',\n",
       " 'M_0',\n",
       " 'M_0',\n",
       " 'M_0',\n",
       " 'M_0',\n",
       " 'M_0',\n",
       " 'M_1',\n",
       " 'M_1',\n",
       " 'F_0',\n",
       " 'M_0',\n",
       " 'M_0',\n",
       " 'M_0',\n",
       " 'M_0',\n",
       " 'M_0',\n",
       " 'F_0',\n",
       " 'F_0',\n",
       " 'F_0',\n",
       " 'M_1',\n",
       " 'M_1',\n",
       " 'M_1',\n",
       " 'M_1',\n",
       " 'M_1',\n",
       " 'M_1',\n",
       " 'M_0',\n",
       " 'M_0',\n",
       " 'M_0',\n",
       " 'M_1',\n",
       " 'M_1',\n",
       " 'M_1',\n",
       " 'M_1',\n",
       " 'M_1',\n",
       " 'M_1',\n",
       " 'M_1',\n",
       " 'M_1',\n",
       " 'M_1',\n",
       " 'M_1',\n",
       " 'M_1',\n",
       " 'M_1',\n",
       " 'M_0',\n",
       " 'M_0',\n",
       " 'M_0',\n",
       " 'F_1',\n",
       " 'M_1',\n",
       " 'M_0',\n",
       " 'M_0',\n",
       " 'M_0',\n",
       " 'M_0',\n",
       " 'M_0',\n",
       " 'M_1',\n",
       " 'M_0',\n",
       " 'M_1',\n",
       " 'M_1',\n",
       " 'M_0',\n",
       " 'M_0',\n",
       " 'M_0',\n",
       " 'F_1',\n",
       " 'M_1',\n",
       " 'F_0',\n",
       " 'F_0',\n",
       " 'F_1',\n",
       " 'M_1',\n",
       " 'M_1',\n",
       " 'M_0',\n",
       " 'M_0',\n",
       " 'M_0',\n",
       " 'M_0',\n",
       " 'M_1',\n",
       " 'M_1',\n",
       " 'M_1',\n",
       " 'M_1',\n",
       " 'M_1',\n",
       " 'F_0',\n",
       " 'F_1',\n",
       " 'M_1',\n",
       " 'M_1',\n",
       " 'F_0',\n",
       " 'M_1',\n",
       " 'M_0',\n",
       " 'M_1',\n",
       " 'M_1',\n",
       " 'M_0',\n",
       " 'M_0',\n",
       " 'M_0',\n",
       " 'M_0',\n",
       " 'M_1',\n",
       " 'F_0',\n",
       " 'F_0',\n",
       " 'F_0',\n",
       " 'M_0',\n",
       " 'M_1',\n",
       " 'M_1',\n",
       " 'M_1',\n",
       " 'M_1',\n",
       " 'M_1',\n",
       " 'F_0',\n",
       " 'M_0',\n",
       " 'F_0',\n",
       " 'M_1',\n",
       " 'M_1',\n",
       " 'M_0',\n",
       " 'M_0',\n",
       " 'F_1',\n",
       " 'F_1',\n",
       " 'F_0',\n",
       " 'F_0',\n",
       " 'F_0',\n",
       " 'F_0',\n",
       " 'F_0',\n",
       " 'F_0',\n",
       " 'M_1',\n",
       " 'M_1',\n",
       " 'M_1',\n",
       " 'M_0',\n",
       " 'M_0',\n",
       " 'M_0',\n",
       " 'M_0',\n",
       " 'M_0',\n",
       " 'M_0',\n",
       " 'M_0',\n",
       " 'M_0',\n",
       " 'M_1',\n",
       " 'M_1',\n",
       " 'M_0',\n",
       " ...]"
      ]
     },
     "execution_count": 109,
     "metadata": {},
     "output_type": "execute_result"
    }
   ],
   "source": [
    "l"
   ]
  },
  {
   "cell_type": "code",
   "execution_count": 111,
   "id": "6df58291",
   "metadata": {},
   "outputs": [],
   "source": [
    "df['MaritalGender']=l"
   ]
  },
  {
   "cell_type": "code",
   "execution_count": 112,
   "id": "7d162938",
   "metadata": {},
   "outputs": [
    {
     "data": {
      "text/html": [
       "<div>\n",
       "<style scoped>\n",
       "    .dataframe tbody tr th:only-of-type {\n",
       "        vertical-align: middle;\n",
       "    }\n",
       "\n",
       "    .dataframe tbody tr th {\n",
       "        vertical-align: top;\n",
       "    }\n",
       "\n",
       "    .dataframe thead th {\n",
       "        text-align: right;\n",
       "    }\n",
       "</style>\n",
       "<table border=\"1\" class=\"dataframe\">\n",
       "  <thead>\n",
       "    <tr style=\"text-align: right;\">\n",
       "      <th></th>\n",
       "      <th>User_ID</th>\n",
       "      <th>Product_ID</th>\n",
       "      <th>Gender</th>\n",
       "      <th>Age</th>\n",
       "      <th>Occupation</th>\n",
       "      <th>City_Category</th>\n",
       "      <th>Stay_In_Current_City_Years</th>\n",
       "      <th>Marital_Status</th>\n",
       "      <th>Product_Category_1</th>\n",
       "      <th>MaritalGender</th>\n",
       "    </tr>\n",
       "  </thead>\n",
       "  <tbody>\n",
       "    <tr>\n",
       "      <th>0</th>\n",
       "      <td>1000004</td>\n",
       "      <td>P00128942</td>\n",
       "      <td>M</td>\n",
       "      <td>46-50</td>\n",
       "      <td>7</td>\n",
       "      <td>B</td>\n",
       "      <td>2</td>\n",
       "      <td>1</td>\n",
       "      <td>1</td>\n",
       "      <td>M_1</td>\n",
       "    </tr>\n",
       "    <tr>\n",
       "      <th>1</th>\n",
       "      <td>1000009</td>\n",
       "      <td>P00113442</td>\n",
       "      <td>M</td>\n",
       "      <td>26-35</td>\n",
       "      <td>17</td>\n",
       "      <td>C</td>\n",
       "      <td>0</td>\n",
       "      <td>0</td>\n",
       "      <td>3</td>\n",
       "      <td>M_0</td>\n",
       "    </tr>\n",
       "    <tr>\n",
       "      <th>2</th>\n",
       "      <td>1000010</td>\n",
       "      <td>P00288442</td>\n",
       "      <td>F</td>\n",
       "      <td>36-45</td>\n",
       "      <td>1</td>\n",
       "      <td>B</td>\n",
       "      <td>4+</td>\n",
       "      <td>1</td>\n",
       "      <td>5</td>\n",
       "      <td>F_1</td>\n",
       "    </tr>\n",
       "    <tr>\n",
       "      <th>3</th>\n",
       "      <td>1000010</td>\n",
       "      <td>P00145342</td>\n",
       "      <td>F</td>\n",
       "      <td>36-45</td>\n",
       "      <td>1</td>\n",
       "      <td>B</td>\n",
       "      <td>4+</td>\n",
       "      <td>1</td>\n",
       "      <td>4</td>\n",
       "      <td>F_1</td>\n",
       "    </tr>\n",
       "    <tr>\n",
       "      <th>4</th>\n",
       "      <td>1000011</td>\n",
       "      <td>P00053842</td>\n",
       "      <td>F</td>\n",
       "      <td>26-35</td>\n",
       "      <td>1</td>\n",
       "      <td>C</td>\n",
       "      <td>1</td>\n",
       "      <td>0</td>\n",
       "      <td>4</td>\n",
       "      <td>F_0</td>\n",
       "    </tr>\n",
       "  </tbody>\n",
       "</table>\n",
       "</div>"
      ],
      "text/plain": [
       "   User_ID Product_ID Gender    Age  Occupation City_Category  \\\n",
       "0  1000004  P00128942      M  46-50           7             B   \n",
       "1  1000009  P00113442      M  26-35          17             C   \n",
       "2  1000010  P00288442      F  36-45           1             B   \n",
       "3  1000010  P00145342      F  36-45           1             B   \n",
       "4  1000011  P00053842      F  26-35           1             C   \n",
       "\n",
       "  Stay_In_Current_City_Years  Marital_Status  Product_Category_1 MaritalGender  \n",
       "0                          2               1                   1           M_1  \n",
       "1                          0               0                   3           M_0  \n",
       "2                         4+               1                   5           F_1  \n",
       "3                         4+               1                   4           F_1  \n",
       "4                          1               0                   4           F_0  "
      ]
     },
     "execution_count": 112,
     "metadata": {},
     "output_type": "execute_result"
    }
   ],
   "source": [
    "df.head()"
   ]
  },
  {
   "cell_type": "code",
   "execution_count": 114,
   "id": "b8999041",
   "metadata": {},
   "outputs": [
    {
     "data": {
      "text/plain": [
       "<AxesSubplot:xlabel='MaritalGender', ylabel='count'>"
      ]
     },
     "execution_count": 114,
     "metadata": {},
     "output_type": "execute_result"
    },
    {
     "data": {
      "image/png": "[encoded data removed]",
      "text/plain": [
       "<Figure size 864x432 with 1 Axes>"
      ]
     },
     "metadata": {},
     "output_type": "display_data"
    }
   ],
   "source": [
    "sns.countplot(x= df['MaritalGender'])"
   ]
  },
  {
   "cell_type": "code",
   "execution_count": 116,
   "id": "50f9a409",
   "metadata": {},
   "outputs": [
    {
     "data": {
      "text/plain": [
       "<AxesSubplot:xlabel='Age', ylabel='count'>"
      ]
     },
     "execution_count": 116,
     "metadata": {},
     "output_type": "execute_result"
    },
    {
     "data": {
      "image/png": "[encoded data removed]",
      "text/plain": [
       "<Figure size 864x432 with 1 Axes>"
      ]
     },
     "metadata": {},
     "output_type": "display_data"
    }
   ],
   "source": [
    "sns.set(rc= {'figure.figsize':(12,6)})\n",
    "sns.countplot(x='Age',hue='MaritalGender',data=df)"
   ]
  },
  {
   "cell_type": "code",
   "execution_count": 117,
   "id": "f5e3000d",
   "metadata": {},
   "outputs": [
    {
     "data": {
      "text/plain": [
       "<AxesSubplot:xlabel='Product_Category_1', ylabel='count'>"
      ]
     },
     "execution_count": 117,
     "metadata": {},
     "output_type": "execute_result"
    },
    {
     "data": {
      "image/png": "[encoded data removed]",
      "text/plain": [
       "<Figure size 864x432 with 1 Axes>"
      ]
     },
     "metadata": {},
     "output_type": "display_data"
    }
   ],
   "source": [
    "sns.set(rc= {'figure.figsize':(12,6)})\n",
    "sns.countplot(x='Product_Category_1',hue='MaritalGender',data=df)"
   ]
  },
  {
   "cell_type": "code",
   "execution_count": 118,
   "id": "a439ccb2",
   "metadata": {},
   "outputs": [
    {
     "data": {
      "text/plain": [
       "<AxesSubplot:xlabel='Stay_In_Current_City_Years', ylabel='count'>"
      ]
     },
     "execution_count": 118,
     "metadata": {},
     "output_type": "execute_result"
    },
    {
     "data": {
      "image/png": "[encoded data removed]",
      "text/plain": [
       "<Figure size 864x432 with 1 Axes>"
      ]
     },
     "metadata": {},
     "output_type": "display_data"
    }
   ],
   "source": [
    "sns.set(rc= {'figure.figsize':(12,6)})\n",
    "sns.countplot(x='Stay_In_Current_City_Years',hue='MaritalGender',data=df)"
   ]
  },
  {
   "cell_type": "code",
   "execution_count": 119,
   "id": "2c361e85",
   "metadata": {},
   "outputs": [
    {
     "data": {
      "text/plain": [
       "<AxesSubplot:xlabel='City_Category', ylabel='count'>"
      ]
     },
     "execution_count": 119,
     "metadata": {},
     "output_type": "execute_result"
    },
    {
     "data": {
      "image/png": "[encoded data removed]",
      "text/plain": [
       "<Figure size 864x432 with 1 Axes>"
      ]
     },
     "metadata": {},
     "output_type": "display_data"
    }
   ],
   "source": [
    "sns.set(rc= {'figure.figsize':(12,6)})\n",
    "sns.countplot(x='City_Category',hue='MaritalGender',data=df)"
   ]
  },
  {
   "cell_type": "code",
   "execution_count": null,
   "id": "37ea2f11",
   "metadata": {},
   "outputs": [],
   "source": []
  }
 ],
 "metadata": {
  "kernelspec": {
   "display_name": "Python 3 (ipykernel)",
   "language": "python",
   "name": "python3"
  },
  "language_info": {
   "codemirror_mode": {
    "name": "ipython",
    "version": 3
   },
   "file_extension": ".py",
   "mimetype": "text/x-python",
   "name": "python",
   "nbconvert_exporter": "python",
   "pygments_lexer": "ipython3",
   "version": "3.9.12"
  }
 },
 "nbformat": 4,
 "nbformat_minor": 5
}
